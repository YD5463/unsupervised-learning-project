{
 "cells": [
  {
   "cell_type": "markdown",
   "id": "7290c753",
   "metadata": {},
   "source": [
    "## Dynamic Dataset"
   ]
  },
  {
   "cell_type": "code",
   "execution_count": 52,
   "id": "a8efa9f7",
   "metadata": {
    "ExecuteTime": {
     "end_time": "2023-03-03T08:45:22.589765Z",
     "start_time": "2023-03-03T08:45:22.587797Z"
    }
   },
   "outputs": [],
   "source": [
    "import os\n",
    "import pandas as pd\n",
    "from hmmlearn.hmm import GaussianHMM, CategoricalHMM\n",
    "from sklearn.metrics import mutual_info_score,normalized_mutual_info_score\n"
   ]
  },
  {
   "cell_type": "code",
   "execution_count": 3,
   "id": "ed749702",
   "metadata": {
    "ExecuteTime": {
     "end_time": "2023-03-03T08:16:52.573325Z",
     "start_time": "2023-03-03T08:16:51.251452Z"
    }
   },
   "outputs": [],
   "source": [
    "def load_dynamic_dataset(data_path=\"data/driftdataset\"):\n",
    "    dfs = []\n",
    "    for filename in os.listdir(data_path):\n",
    "        with open(os.path.join(data_path, filename), \"r\") as file:\n",
    "            df_rows = []\n",
    "            for line in file.readlines():\n",
    "                curr_row = {}\n",
    "                line = line.split(\";\")\n",
    "                curr_row[\"gas_type\"] = line[0]\n",
    "                line = line[1].split(\" \")\n",
    "                curr_row[\"concentration\"] = line[0]\n",
    "\n",
    "                for sensor_value in line[1:]:\n",
    "                    sensor_value = sensor_value.split(\":\")\n",
    "                    if len(sensor_value) == 2:\n",
    "                        curr_row[f\"sensor_{sensor_value[0]}\"] = float(sensor_value[1])\n",
    "                df_rows.append(curr_row)\n",
    "            dfs.append(pd.DataFrame(df_rows))\n",
    "    return pd.concat(dfs, axis=0)\n"
   ]
  },
  {
   "cell_type": "code",
   "execution_count": 47,
   "id": "57104e39",
   "metadata": {
    "ExecuteTime": {
     "end_time": "2023-03-03T08:41:32.353724Z",
     "start_time": "2023-03-03T08:41:31.561412Z"
    }
   },
   "outputs": [],
   "source": [
    "df = load_dynamic_dataset(\"../data/driftdataset\")\n",
    "external_vars = [\"gas_type\", \"concentration\"]\n",
    "X = df.drop(external_vars, axis=1).values\n",
    "y = df[external_vars]\n",
    "y[\"concentration\"] = y[\"concentration\"].apply(lambda val: int(float(val)))"
   ]
  },
  {
   "cell_type": "code",
   "execution_count": 53,
   "id": "04e37aa6",
   "metadata": {
    "ExecuteTime": {
     "end_time": "2023-03-03T08:45:58.411586Z",
     "start_time": "2023-03-03T08:45:52.809197Z"
    }
   },
   "outputs": [],
   "source": [
    "from sklearn.decomposition import PCA\n",
    "dim_model = PCA(n_components=10)\n",
    "new_data = dim_model.fit_transform(X)"
   ]
  },
  {
   "cell_type": "code",
   "execution_count": 54,
   "id": "6b8064d2",
   "metadata": {
    "ExecuteTime": {
     "end_time": "2023-03-03T08:46:02.604514Z",
     "start_time": "2023-03-03T08:45:58.422402Z"
    }
   },
   "outputs": [],
   "source": [
    "import numpy as np\n",
    "from sklearn.cluster import KMeans\n",
    "model = KMeans(10, max_iter=1000)\n",
    "labels = model.fit_predict(new_data)"
   ]
  },
  {
   "cell_type": "code",
   "execution_count": 108,
   "id": "571c30d9",
   "metadata": {
    "ExecuteTime": {
     "end_time": "2023-03-03T08:51:55.290007Z",
     "start_time": "2023-03-03T08:51:55.055710Z"
    }
   },
   "outputs": [],
   "source": [
    "model = CategoricalHMM(n_components=6).fit(labels.reshape(-1, 1))\n",
    "hidden_states = model.predict(labels.reshape(-1, 1))"
   ]
  },
  {
   "cell_type": "code",
   "execution_count": 109,
   "id": "7239f43c",
   "metadata": {
    "ExecuteTime": {
     "end_time": "2023-03-03T08:51:55.307953Z",
     "start_time": "2023-03-03T08:51:55.291332Z"
    }
   },
   "outputs": [
    {
     "name": "stdout",
     "output_type": "stream",
     "text": [
      "0.08069078590904835\n"
     ]
    }
   ],
   "source": [
    "print(normalized_mutual_info_score(\n",
    "    y[\"gas_type\"].values,\n",
    "    hidden_states\n",
    "))"
   ]
  },
  {
   "cell_type": "code",
   "execution_count": 57,
   "id": "c4ccc309",
   "metadata": {
    "ExecuteTime": {
     "end_time": "2023-03-03T08:46:13.789403Z",
     "start_time": "2023-03-03T08:46:02.859991Z"
    }
   },
   "outputs": [],
   "source": [
    "model = CategoricalHMM(n_components=y[\"concentration\"].nunique()).fit(labels.reshape(-1, 1))\n",
    "hidden_states = model.predict(labels.reshape(-1, 1))"
   ]
  },
  {
   "cell_type": "code",
   "execution_count": 58,
   "id": "1538320f",
   "metadata": {
    "ExecuteTime": {
     "end_time": "2023-03-03T08:46:13.797165Z",
     "start_time": "2023-03-03T08:46:13.790377Z"
    }
   },
   "outputs": [
    {
     "name": "stdout",
     "output_type": "stream",
     "text": [
      "0.24128904814698104\n"
     ]
    }
   ],
   "source": [
    "print(normalized_mutual_info_score(\n",
    "    y[\"concentration\"].values,\n",
    "    hidden_states\n",
    "))"
   ]
  },
  {
   "cell_type": "code",
   "execution_count": null,
   "id": "d3f9b8bd",
   "metadata": {},
   "outputs": [],
   "source": []
  }
 ],
 "metadata": {
  "kernelspec": {
   "display_name": "Python 3 (ipykernel)",
   "language": "python",
   "name": "python3"
  },
  "language_info": {
   "codemirror_mode": {
    "name": "ipython",
    "version": 3
   },
   "file_extension": ".py",
   "mimetype": "text/x-python",
   "name": "python",
   "nbconvert_exporter": "python",
   "pygments_lexer": "ipython3",
   "version": "3.10.8"
  }
 },
 "nbformat": 4,
 "nbformat_minor": 5
}
