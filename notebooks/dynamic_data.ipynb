{
 "cells": [
  {
   "cell_type": "markdown",
   "id": "7290c753",
   "metadata": {},
   "source": [
    "## Dynamic Dataset"
   ]
  },
  {
   "cell_type": "code",
   "execution_count": null,
   "id": "ed749702",
   "metadata": {},
   "outputs": [],
   "source": [
    "def load_dynamic_dataset(data_path=\"../data/driftdataset\"):\n",
    "    dfs = []\n",
    "    for filename in os.listdir(data_path):\n",
    "        with open(os.path.join(data_path, filename), \"r\") as file:\n",
    "            df = pd.read_csv(\n",
    "                file,\n",
    "                sep=\"\\s+\",\n",
    "                skiprows=1,\n",
    "                usecols=[0, 7],\n",
    "                names=['TIME', 'XGSM']\n",
    "            )\n",
    "            dfs.append(df)\n",
    "    return pd.concat(dfs, axis=0)"
   ]
  },
  {
   "cell_type": "code",
   "execution_count": null,
   "id": "b93aec08",
   "metadata": {},
   "outputs": [],
   "source": [
    "df = load_dynamic_dataset()"
   ]
  },
  {
   "cell_type": "code",
   "execution_count": null,
   "id": "7730b512",
   "metadata": {},
   "outputs": [],
   "source": [
    "from collections import defaultdict\n",
    "times = set()\n",
    "time_series = defaultdict(list)\n",
    "for i, row in tqdm(df.iterrows()):\n",
    "    time_val = row[\"TIME\"].split(\";\")\n",
    "    XGSM_val = row[\"XGSM\"].split(\":\")\n",
    "    time_series[time_val[0]].append({\n",
    "        \"time\": time_val[1], \n",
    "        \"gas_density\": XGSM_val[1]\n",
    "    })\n",
    "\n",
    "print(sorted(time_series, key=lambda x: x[\"time\"]))"
   ]
  },
  {
   "cell_type": "code",
   "execution_count": null,
   "id": "57104e39",
   "metadata": {},
   "outputs": [],
   "source": []
  }
 ],
 "metadata": {
  "kernelspec": {
   "display_name": "Python 3 (ipykernel)",
   "language": "python",
   "name": "python3"
  },
  "language_info": {
   "codemirror_mode": {
    "name": "ipython",
    "version": 3
   },
   "file_extension": ".py",
   "mimetype": "text/x-python",
   "name": "python",
   "nbconvert_exporter": "python",
   "pygments_lexer": "ipython3",
   "version": "3.10.8"
  }
 },
 "nbformat": 4,
 "nbformat_minor": 5
}
