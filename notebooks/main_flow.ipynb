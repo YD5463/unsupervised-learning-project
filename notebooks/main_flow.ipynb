{
 "cells": [
  {
   "cell_type": "markdown",
   "id": "89bed027",
   "metadata": {},
   "source": [
    "# Project\n",
    " - 2 CLUSTERING AND 1 DIMENSION REDUCTION METHOD NOT LEARNT IN THE COURSE \n",
    "\n",
    "## Static Dataset"
   ]
  },
  {
   "cell_type": "code",
   "execution_count": 1,
   "id": "26f5a82e",
   "metadata": {
    "ExecuteTime": {
     "end_time": "2023-02-03T13:07:16.859187Z",
     "start_time": "2023-02-03T13:07:14.247349Z"
    }
   },
   "outputs": [],
   "source": [
    "import numpy as np\n",
    "from sklearn.mixture import GaussianMixture\n",
    "from tqdm import tqdm\n",
    "import sklearn.metrics as metrics\n",
    "import matplotlib.pyplot as plt\n",
    "import seaborn as sns\n",
    "from sklearn.cluster import KMeans, DBSCAN, AgglomerativeClustering, Birch\n",
    "from sklearn.manifold import TSNE, SpectralEmbedding, Isomap, MDS\n",
    "from fcmeans import FCM\n",
    "from sklearn.cluster import SpectralClustering\n",
    "from sklearn.ensemble import IsolationForest\n",
    "from sklearn.svm import OneClassSVM\n",
    "\n",
    "import random\n",
    "import networkx as nx\n",
    "from community import community_louvain"
   ]
  },
  {
   "cell_type": "code",
   "execution_count": null,
   "id": "1f6f1a2c",
   "metadata": {},
   "outputs": [],
   "source": []
  },
  {
   "cell_type": "markdown",
   "id": "2885f710",
   "metadata": {},
   "source": [
    "### Cluster the remaining columns, and explain what are is the best clustering method.\n",
    "- silhouette_score\n",
    "- elbow method\n",
    "- k-fold cross validation on silhouette_score or Matual information with - kruskal wallis or anova"
   ]
  },
  {
   "cell_type": "code",
   "execution_count": null,
   "id": "5fcdbb06",
   "metadata": {},
   "outputs": [],
   "source": [
    "def get_best_model_by_silhouette(models, X)\n",
    "    for model in models:\n",
    "        labels = model.fit_predict(X)\n",
    "        scores.append(metrics.silhouette_score(X, labels))\n",
    "    plt.plot(models, scores)\n",
    "    plt.title(f\"silhouette_score diffrent models - {model_name}\")\n",
    "    plt.xlabel(\"models\")\n",
    "    plt.ylabel(\"Silhouette Score\")"
   ]
  },
  {
   "cell_type": "code",
   "execution_count": null,
   "id": "55f908f0",
   "metadata": {},
   "outputs": [],
   "source": []
  },
  {
   "cell_type": "markdown",
   "id": "52a0a632",
   "metadata": {},
   "source": [
    "### Fuzzy C-Means"
   ]
  },
  {
   "cell_type": "code",
   "execution_count": null,
   "id": "30a6931b",
   "metadata": {},
   "outputs": [],
   "source": [
    "my_model = FCM(n_clusters=2)\n",
    "my_model.fit(X)"
   ]
  },
  {
   "cell_type": "markdown",
   "id": "c4af32d6",
   "metadata": {},
   "source": [
    "#### K-Means"
   ]
  },
  {
   "cell_type": "code",
   "execution_count": null,
   "id": "cd1a4599",
   "metadata": {},
   "outputs": [],
   "source": [
    "KMeans(k, n_init=\"auto\", random_state=random_state)"
   ]
  },
  {
   "cell_type": "markdown",
   "id": "8725b031",
   "metadata": {},
   "source": [
    "#### Gaussian-Mixture"
   ]
  },
  {
   "cell_type": "code",
   "execution_count": null,
   "id": "d52861b4",
   "metadata": {},
   "outputs": [],
   "source": [
    "GaussianMixture(k, max_iter=3000)"
   ]
  },
  {
   "cell_type": "markdown",
   "id": "28878168",
   "metadata": {
    "ExecuteTime": {
     "end_time": "2023-02-03T13:25:56.391773Z",
     "start_time": "2023-02-03T13:25:56.384378Z"
    }
   },
   "source": [
    "#### Hierarchical Clustering"
   ]
  },
  {
   "cell_type": "code",
   "execution_count": null,
   "id": "f965558d",
   "metadata": {},
   "outputs": [],
   "source": [
    "import scipy.cluster.hierarchy as sch # importing scipy.cluster.hierarchy for dendrogram\n",
    "dendrogram = sch.dendrogram(sch.linkage(X, method = 'ward')) # finding the optimal number of clusters using dendrogram\n",
    "plt.title('Dendrogram') # title of the dendrogram\n",
    "plt.xlabel('Customers') # label of the x-axis\n",
    "plt.ylabel('Euclidean distances') # label of the y-axis\n",
    "plt.show() # show the dendrogram"
   ]
  },
  {
   "cell_type": "code",
   "execution_count": null,
   "id": "4194de76",
   "metadata": {},
   "outputs": [],
   "source": [
    "Agg_hc = AgglomerativeClustering(n_clusters = 5, affinity = 'euclidean', linkage = 'ward')\n",
    "y_hc = Agg_hc.fit_predict(newData)"
   ]
  },
  {
   "cell_type": "markdown",
   "id": "2e464f31",
   "metadata": {},
   "source": [
    "#### Birch - didn't learned in the class"
   ]
  },
  {
   "cell_type": "code",
   "execution_count": null,
   "id": "2950c867",
   "metadata": {},
   "outputs": [],
   "source": [
    "Birch(n_clusters=k)"
   ]
  },
  {
   "cell_type": "markdown",
   "id": "51ddeb56",
   "metadata": {},
   "source": [
    "#### Dbscan"
   ]
  },
  {
   "cell_type": "code",
   "execution_count": null,
   "id": "58fcc658",
   "metadata": {},
   "outputs": [],
   "source": [
    "\n",
    "def get_best_dbscan_params(clean_X: np.ndarray, min_samples: int):\n",
    "    range_eps = np.linspace(0.1, 10, 20)\n",
    "    scores = []\n",
    "    for eps in range_eps:\n",
    "        model = DBSCAN(eps=eps, min_samples=min_samples)\n",
    "        good_labels = model.fit_predict(clean_X)\n",
    "        noisy_data_count = len(good_labels[good_labels == -1])\n",
    "        if noisy_data_count > good_labels.shape[0] * 0.5 or len(np.unique(good_labels)) < 3:\n",
    "            scores.append(0)\n",
    "            continue\n",
    "        print(f\"noisy data count with eps={eps}: {noisy_data_count}\")\n",
    "        try:\n",
    "            score = metrics.silhouette_score(clean_X, good_labels)\n",
    "        except:\n",
    "            score = 0\n",
    "        scores.append(score)\n",
    "    plt.plot(range_eps, scores)\n",
    "    plt.show()\n",
    "    return range_eps[np.argmax(scores)]\n"
   ]
  },
  {
   "cell_type": "markdown",
   "id": "bacac3f1",
   "metadata": {},
   "source": [
    "#### SpectralClustering"
   ]
  },
  {
   "cell_type": "code",
   "execution_count": null,
   "id": "b1cfae74",
   "metadata": {},
   "outputs": [],
   "source": [
    "clustering = SpectralClustering(n_clusters=2,assign_labels='discretize',random_state=0).fit_predict(X)"
   ]
  },
  {
   "cell_type": "code",
   "execution_count": null,
   "id": "2bd9f26c",
   "metadata": {},
   "outputs": [],
   "source": []
  },
  {
   "cell_type": "markdown",
   "id": "0d1db6ca",
   "metadata": {},
   "source": [
    "### Associate the clusters with the ground truth, and explain what external variable is best associated with clusters, and what clustering method best associates with the outside variables"
   ]
  },
  {
   "cell_type": "code",
   "execution_count": null,
   "id": "6ceb9978",
   "metadata": {},
   "outputs": [],
   "source": []
  },
  {
   "cell_type": "markdown",
   "id": "3c680268",
   "metadata": {},
   "source": [
    "### Find anomalies in the data"
   ]
  },
  {
   "cell_type": "markdown",
   "id": "257e5e45",
   "metadata": {},
   "source": [
    "### using DBSCAN"
   ]
  },
  {
   "cell_type": "code",
   "execution_count": null,
   "id": "bf390fe9",
   "metadata": {},
   "outputs": [],
   "source": [
    "model = DBSCAN(eps=eps, min_samples=min_samples)\n",
    "labels = model.fit_predict(X)\n",
    "labels[labels == -1]"
   ]
  },
  {
   "cell_type": "markdown",
   "id": "3080421d",
   "metadata": {},
   "source": [
    "### using isolation forest\n",
    "https://scikit-learn.org/stable/modules/generated/sklearn.ensemble.IsolationForest.html"
   ]
  },
  {
   "cell_type": "code",
   "execution_count": null,
   "id": "2f8166a8",
   "metadata": {},
   "outputs": [],
   "source": [
    "clf = IsolationForest(random_state=0).fit(X)"
   ]
  },
  {
   "cell_type": "markdown",
   "id": "3a2c85c7",
   "metadata": {},
   "source": [
    "### one classs svm"
   ]
  },
  {
   "cell_type": "code",
   "execution_count": null,
   "id": "37141510",
   "metadata": {},
   "outputs": [],
   "source": [
    "one_class_svm = OneClassSVM(nu=0.01, kernel = 'rbf', gamma = 'auto').fit(X_train)\n",
    "prediction = one_class_svm.predict(X_test)"
   ]
  },
  {
   "cell_type": "markdown",
   "id": "be5baa46",
   "metadata": {},
   "source": [
    "### test whether anomalies are associated with any of the external variables"
   ]
  },
  {
   "cell_type": "code",
   "execution_count": null,
   "id": "7a5992ee",
   "metadata": {},
   "outputs": [],
   "source": []
  },
  {
   "cell_type": "markdown",
   "id": "e7e6193c",
   "metadata": {},
   "source": [
    "### check if anomaly detection improves the clustering"
   ]
  },
  {
   "cell_type": "code",
   "execution_count": null,
   "id": "67fc8955",
   "metadata": {},
   "outputs": [],
   "source": []
  },
  {
   "cell_type": "markdown",
   "id": "8b0c30ee",
   "metadata": {},
   "source": [
    "### Reduce the dimension of the data and propose a visualization that best characterize the clusters associated with the external variables. Please find a smart presentation scheme to highlight both clusters and variables.\n",
    "\n",
    "- TSNE\n",
    "- Isomap\n",
    "- MDS\n",
    "- PCA\n",
    "- SpectralEmbedding\n",
    "- PCoA\n",
    "- LLE\n",
    "- UMAP\n",
    "- AutoEncoders\n",
    "- ICA"
   ]
  },
  {
   "cell_type": "code",
   "execution_count": 8,
   "id": "79ccf593",
   "metadata": {
    "ExecuteTime": {
     "end_time": "2023-02-03T13:48:58.474377Z",
     "start_time": "2023-02-03T13:48:58.460546Z"
    }
   },
   "outputs": [],
   "source": [
    "def reduce_dimension(X):\n",
    "    models = [TSNE(n_components=2), Isomap(n_components=2), MDS(n_components=2), SpectralEmbedding(n_components=2)]\n",
    "    fig, axs = plt.subplots(nrows=len(models), ncols=1, figsize=(8, 8))\n",
    "    fig.tight_layout()\n",
    "    for i, model in tqdm(enumerate(models)):\n",
    "        X_embedded_tsne = model.fit_transform(X)\n",
    "        axs[i].scatter(X_embedded_tsne[:, 0], X_embedded_tsne[:, 1], s=40, cmap='viridis')\n",
    "        axs[i].set_title(f\"{model} dimensionality reduction\")\n",
    "    plt.show()"
   ]
  },
  {
   "cell_type": "code",
   "execution_count": null,
   "id": "356a8657",
   "metadata": {},
   "outputs": [],
   "source": []
  },
  {
   "cell_type": "code",
   "execution_count": null,
   "id": "0d4d7342",
   "metadata": {},
   "outputs": [],
   "source": []
  },
  {
   "cell_type": "markdown",
   "id": "7f219202",
   "metadata": {},
   "source": [
    "## Dynamic Dataset"
   ]
  },
  {
   "cell_type": "code",
   "execution_count": null,
   "id": "e055170b",
   "metadata": {},
   "outputs": [],
   "source": []
  },
  {
   "cell_type": "markdown",
   "id": "95d98aba",
   "metadata": {
    "ExecuteTime": {
     "end_time": "2023-02-03T13:41:13.442198Z",
     "start_time": "2023-02-03T13:41:13.436848Z"
    }
   },
   "source": [
    "### Hidden Markov model for time series\n",
    "https://rubikscode.net/2021/09/06/stock-price-prediction-using-hidden-markov-model/"
   ]
  },
  {
   "cell_type": "code",
   "execution_count": null,
   "id": "f63959d7",
   "metadata": {},
   "outputs": [],
   "source": []
  },
  {
   "cell_type": "markdown",
   "id": "99de5e94",
   "metadata": {},
   "source": [
    "## Graph Based Dataset"
   ]
  },
  {
   "cell_type": "markdown",
   "id": "d5fe0967",
   "metadata": {},
   "source": [
    "### Louvain’s Algorithm for Community Detection\n",
    "https://github.com/taynaud/python-louvain"
   ]
  },
  {
   "cell_type": "code",
   "execution_count": 9,
   "id": "cb822f61",
   "metadata": {
    "ExecuteTime": {
     "end_time": "2023-02-03T13:50:28.350960Z",
     "start_time": "2023-02-03T13:50:28.344749Z"
    }
   },
   "outputs": [],
   "source": [
    "\n",
    "def generate_network(n):\n",
    "    # initialize dictionary with nodes\n",
    "    graph_dct = {node:[] for node in range(n)}\n",
    "    nodes = list(range(n))\n",
    "    \n",
    "    # generate edges\n",
    "    for n,edge_list in graph_dct.items():\n",
    "        edge_c = random.randint(min(nodes), int(max(nodes) / 2))\n",
    "        el = random.sample(nodes, edge_c)\n",
    "        graph_dct[n] = el\n",
    "    \n",
    "    # create networkx multi-edge graph\n",
    "    G = nx.MultiGraph(graph_dct)\n",
    "    return G\n",
    "\n",
    "n = 500\n",
    "G = generate_network(n)\n",
    "print(nx.info(G))\n",
    "\n",
    "# visualize graph\n",
    "pos = nx.spring_layout(G)\n",
    "nx.draw(G, pos, node_size = 75, alpha = 0.8)\n",
    "plt.show()"
   ]
  },
  {
   "cell_type": "code",
   "execution_count": null,
   "id": "5eac8b8b",
   "metadata": {},
   "outputs": [],
   "source": [
    "comms = community_louvain.best_partition(G)"
   ]
  },
  {
   "cell_type": "code",
   "execution_count": null,
   "id": "d43f50d5",
   "metadata": {},
   "outputs": [],
   "source": [
    "unique_coms = np.unique(list(comms.values()))\n",
    "cmap = {\n",
    "    0 : 'maroon',\n",
    "    1 : 'teal',\n",
    "    2 : 'black', \n",
    "    3 : 'orange',\n",
    "    4 : 'green',\n",
    "    5 : 'yellow'\n",
    "}\n",
    "\n",
    "node_cmap = [cmap[v] for _,v in comms.items()]\n",
    "\n",
    "pos = nx.spring_layout(G)\n",
    "nx.draw(G, pos, node_size = 75, alpha = 0.8, node_color=node_cmap)\n",
    "plt.show()"
   ]
  },
  {
   "cell_type": "code",
   "execution_count": null,
   "id": "691628ed",
   "metadata": {},
   "outputs": [],
   "source": []
  }
 ],
 "metadata": {
  "kernelspec": {
   "display_name": "Python 3 (ipykernel)",
   "language": "python",
   "name": "python3"
  },
  "language_info": {
   "codemirror_mode": {
    "name": "ipython",
    "version": 3
   },
   "file_extension": ".py",
   "mimetype": "text/x-python",
   "name": "python",
   "nbconvert_exporter": "python",
   "pygments_lexer": "ipython3",
   "version": "3.9.12"
  }
 },
 "nbformat": 4,
 "nbformat_minor": 5
}
