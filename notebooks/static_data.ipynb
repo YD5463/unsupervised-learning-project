{
 "cells": [
  {
   "cell_type": "markdown",
   "id": "89bed027",
   "metadata": {},
   "source": [
    "# Project\n",
    " - 2 CLUSTERING AND 1 DIMENSION REDUCTION METHOD NOT LEARNT IN THE COURSE \n",
    "\n",
    "## Static Dataset"
   ]
  },
  {
   "cell_type": "markdown",
   "id": "516ea91f",
   "metadata": {},
   "source": [
    "## Exploration Part"
   ]
  },
  {
   "cell_type": "code",
   "execution_count": 11,
   "id": "d5dd874b",
   "metadata": {
    "ExecuteTime": {
     "end_time": "2023-02-24T11:15:11.747572Z",
     "start_time": "2023-02-24T11:15:11.745030Z"
    }
   },
   "outputs": [],
   "source": [
    "external_vars = [('track', 'genre_top'), ('track', 'license'), ('album', 'type')]"
   ]
  },
  {
   "cell_type": "code",
   "execution_count": null,
   "id": "b3a65a98",
   "metadata": {},
   "outputs": [],
   "source": [
    "features = pd.read_csv(os.path.join(data_path, \"features.csv\"), index_col=0, header=[0, 1, 2])\n",
    "tracks = pd.read_csv(os.path.join(data_path, \"tracks.csv\"), index_col=0, header=[0, 1])\n",
    "features.columns = features.columns.map('_'.join)\n",
    "list(set(tracks.columns) - set(tracks._get_numeric_data().columns))"
   ]
  },
  {
   "cell_type": "markdown",
   "id": "4d7cbde1",
   "metadata": {},
   "source": [
    "## Implementation Part"
   ]
  },
  {
   "cell_type": "code",
   "execution_count": 8,
   "id": "5526f7c9",
   "metadata": {
    "ExecuteTime": {
     "end_time": "2023-02-24T11:14:31.200739Z",
     "start_time": "2023-02-24T11:14:31.197949Z"
    }
   },
   "outputs": [],
   "source": [
    "from pathlib import Path\n",
    "from sklearn.preprocessing import MinMaxScaler\n",
    "import pickle\n",
    "import random\n",
    "from typing import Tuple, Dict, Any, List\n",
    "import numpy as np\n",
    "import os\n",
    "import pandas as pd\n",
    "from sklearn.metrics import mutual_info_score\n",
    "from sklearn.metrics import silhouette_score, silhouette_samples\n",
    "from scipy.stats import f_oneway\n",
    "from scipy.stats import ttest_rel\n",
    "from tqdm.notebook import tqdm\n",
    "\n",
    "data_path = \"../data/fma_metadata\"\n",
    "OUTPUT_PATH = \"../output/\"\n",
    "Path(OUTPUT_PATH).mkdir(parents=True, exist_ok=True)\n",
    "CACHE_PATH = \"../cache/\"\n",
    "Path(CACHE_PATH).mkdir(parents=True, exist_ok=True)"
   ]
  },
  {
   "cell_type": "code",
   "execution_count": 12,
   "id": "906a9cb5",
   "metadata": {
    "ExecuteTime": {
     "end_time": "2023-02-24T11:15:32.071768Z",
     "start_time": "2023-02-24T11:15:13.937852Z"
    }
   },
   "outputs": [
    {
     "name": "stderr",
     "output_type": "stream",
     "text": [
      "/var/folders/b6/q8hy7lgd7v7glnmnnb18fg1w0000gn/T/ipykernel_30856/2923475908.py:13: SettingWithCopyWarning: \n",
      "A value is trying to be set on a copy of a slice from a DataFrame.\n",
      "Try using .loc[row_indexer,col_indexer] = value instead\n",
      "\n",
      "See the caveats in the documentation: https://pandas.pydata.org/pandas-docs/stable/user_guide/indexing.html#returning-a-view-versus-a-copy\n",
      "  y[column] = y[column].astype('category').cat.codes\n",
      "/var/folders/b6/q8hy7lgd7v7glnmnnb18fg1w0000gn/T/ipykernel_30856/2923475908.py:13: SettingWithCopyWarning: \n",
      "A value is trying to be set on a copy of a slice from a DataFrame.\n",
      "Try using .loc[row_indexer,col_indexer] = value instead\n",
      "\n",
      "See the caveats in the documentation: https://pandas.pydata.org/pandas-docs/stable/user_guide/indexing.html#returning-a-view-versus-a-copy\n",
      "  y[column] = y[column].astype('category').cat.codes\n",
      "/var/folders/b6/q8hy7lgd7v7glnmnnb18fg1w0000gn/T/ipykernel_30856/2923475908.py:13: SettingWithCopyWarning: \n",
      "A value is trying to be set on a copy of a slice from a DataFrame.\n",
      "Try using .loc[row_indexer,col_indexer] = value instead\n",
      "\n",
      "See the caveats in the documentation: https://pandas.pydata.org/pandas-docs/stable/user_guide/indexing.html#returning-a-view-versus-a-copy\n",
      "  y[column] = y[column].astype('category').cat.codes\n"
     ]
    }
   ],
   "source": [
    "cache_file = f\"{OUTPUT_PATH}/clean_static_data.csv\"\n",
    "if Path(cache_file).is_file():\n",
    "    df = pd.read_csv(cache_file)\n",
    "else:\n",
    "    features = pd.read_csv(os.path.join(data_path, \"features.csv\"), index_col=0, header=[0, 1, 2])\n",
    "    tracks = pd.read_csv(os.path.join(data_path, \"tracks.csv\"), index_col=0, header=[0, 1])\n",
    "    features.columns = features.columns.map('_'.join)\n",
    "    df = pd.concat([features, tracks[external_vars]], axis=1)\n",
    "    df = df.dropna()\n",
    "    df.to_csv(cache_file)\n",
    "X, y = df.drop(external_vars, axis=1), df[external_vars]\n",
    "for column in external_vars:\n",
    "    y[column] = y[column].astype('category').cat.codes"
   ]
  },
  {
   "cell_type": "code",
   "execution_count": 14,
   "id": "c8fd8bfa",
   "metadata": {
    "ExecuteTime": {
     "end_time": "2023-02-24T11:15:41.160050Z",
     "start_time": "2023-02-24T11:15:41.101190Z"
    }
   },
   "outputs": [],
   "source": [
    "from sklearn.preprocessing import MinMaxScaler\n",
    "X = MinMaxScaler(feature_range=(-1, 1)).fit_transform(X)"
   ]
  },
  {
   "cell_type": "code",
   "execution_count": 5,
   "id": "5bc18801",
   "metadata": {
    "ExecuteTime": {
     "end_time": "2023-02-23T16:39:14.496754Z",
     "start_time": "2023-02-23T16:39:14.490605Z"
    }
   },
   "outputs": [],
   "source": [
    "def generate_cvs(X: np.ndarray, y: pd.DataFrame):\n",
    "    X_cvs = []\n",
    "    y_cvs = []\n",
    "    for i in range(num_of_cvs):\n",
    "        rows = np.random.randint(cv_size, size=X.shape[0]).astype('bool')\n",
    "        X_cvs.append(X[rows])\n",
    "        y_cvs.append(y[rows])\n",
    "    return X_cvs, y_cvs"
   ]
  },
  {
   "cell_type": "code",
   "execution_count": 11,
   "id": "3e67ec0f",
   "metadata": {
    "ExecuteTime": {
     "end_time": "2023-02-23T16:53:22.748448Z",
     "start_time": "2023-02-23T16:53:22.726235Z"
    }
   },
   "outputs": [
    {
     "name": "stdout",
     "output_type": "stream",
     "text": [
      "('track', 'genre_top') 16\n",
      "('track', 'license') 113\n",
      "('album', 'type') 5\n"
     ]
    },
    {
     "data": {
      "text/plain": [
       "((100, 518), (100, 3))"
      ]
     },
     "execution_count": 11,
     "metadata": {},
     "output_type": "execute_result"
    }
   ],
   "source": [
    "X, y = load_data()\n",
    "rows = np.random.randint(X.shape[0], size=cv_size)\n",
    "X, y = X.iloc[rows].values, y.iloc[rows]"
   ]
  },
  {
   "cell_type": "code",
   "execution_count": null,
   "id": "1f6f1a2c",
   "metadata": {
    "ExecuteTime": {
     "start_time": "2023-02-23T16:37:59.399Z"
    }
   },
   "outputs": [
    {
     "name": "stderr",
     "output_type": "stream",
     "text": [
      "\r",
      "  0%|                                                                                                                                                                                           | 0/7 [00:00<?, ?it/s]"
     ]
    }
   ],
   "source": [
    "\n",
    "def reduction_algo_wrapper(reduction_algo_name: str, dim_num: int, cv_data: np.ndarray, cv_id: int) -> np.ndarray:\n",
    "    reduction_algo = dim_reduction_algorithms[reduction_algo_name]\n",
    "    if reduction_algo is None:\n",
    "        return cv_data\n",
    "    cache_file = f\"{reduction_algo_name}-{dim_num}-{cv_id}.pkl\"\n",
    "    if Path(cache_file).is_file():\n",
    "        print(f\"using cache file {cache_file}\")\n",
    "        with open(cache_file, \"rb\") as file:\n",
    "            return pickle.load(file)\n",
    "    cv_data = reduction_algo(dim_num).fit_transform(cv_data)\n",
    "    with open(cache_file, \"wb\") as file:\n",
    "        pickle.dump(cv_data, file)\n",
    "    return cv_data\n",
    "\n",
    "\n",
    "def main_flow(X_cvs: List[np.ndarray]) -> Dict[str, Dict[str, Any]]:\n",
    "    best_config_by_clustering = dict()\n",
    "    for clustering_algo_name, clustering_algo in clustering_algorithms.items():\n",
    "        dim_reduction_scores = dict()\n",
    "        dim_reduction_meta = dict()\n",
    "        for reduction_algo_name in tqdm(dim_reduction_algorithms.keys()):\n",
    "            max_score = float(\"-inf\")\n",
    "            for dim_num in dimentions_options:\n",
    "                for k_clusters in num_clusters_options:\n",
    "                    scores = []\n",
    "                    for cv_id, cv_data in enumerate(X_cvs):\n",
    "                        cv_data = reduction_algo_wrapper(reduction_algo_name,dim_num,cv_data, cv_id)\n",
    "                        print(f\"doing {clustering_algo_name} for {cv_data.shape} by {reduction_algo_name}\")\n",
    "                        labels = clustering_algo(k_clusters, cv_data)\n",
    "                        scores.append(silhouette_score(cv_data, labels))\n",
    "                    curr_score = np.mean(scores)\n",
    "                    if curr_score > max_score:\n",
    "                        max_score = curr_score\n",
    "                        dim_reduction_scores[reduction_algo_name] = scores\n",
    "                        dim_reduction_meta[reduction_algo_name] = {\n",
    "                            \"max_score\": max_score,\n",
    "                            \"max_dim_num\": dim_num,\n",
    "                            \"max_cluster_num\": k_clusters,\n",
    "                            \"scores\": scores,\n",
    "                            \"reduction_algo_name\": reduction_algo_name\n",
    "                        }\n",
    "\n",
    "        _, p_value = f_oneway(list(dim_reduction_scores.values()))\n",
    "        best_config_by_clustering[clustering_algo_name] = random.choice(list(dim_reduction_meta.values()))\n",
    "        if p_value < p_value_thr:\n",
    "            sorted_reduction_algos = sorted(\n",
    "                dim_reduction_meta,\n",
    "                key=lambda key: dim_reduction_meta[key][\"max_score\"],\n",
    "                reverse=True\n",
    "            )\n",
    "            reduction_algo_name_1, reduction_algo_name_2 = sorted_reduction_algos[:2]\n",
    "            _, t_test_p_value = ttest_rel(\n",
    "                dim_reduction_scores[reduction_algo_name_1],\n",
    "                dim_reduction_scores[reduction_algo_name_2]\n",
    "            )\n",
    "            best_algo_name: str = sorted_reduction_algos[0]\n",
    "            best_config_by_clustering[clustering_algo_name] = dim_reduction_meta[best_algo_name]\n",
    "            if t_test_p_value >= p_value_thr:\n",
    "                print(f\"followed by t-test: algorithms {reduction_algo_name_1}, {reduction_algo_name_2} are the same\")\n",
    "        else:\n",
    "            print(f\"followed by annova: algorithms {dim_reduction_scores.keys()} are the same\")\n",
    "        print(f\"picking for {clustering_algo_name}: {best_config_by_clustering[clustering_algo_name]}\")\n",
    "        print(best_config_by_clustering)\n",
    "        with open(\"output/best_config_by_clustering\", \"w\") as file:\n",
    "            json.dump(best_config_by_clustering, file)\n",
    "    return best_config_by_clustering\n",
    "\n",
    "best_config_by_clustering = main_flow(X_cvs)\n"
   ]
  },
  {
   "cell_type": "code",
   "execution_count": 77,
   "id": "b4004d4e",
   "metadata": {
    "ExecuteTime": {
     "end_time": "2023-02-22T17:38:31.316545Z",
     "start_time": "2023-02-22T17:38:31.311365Z"
    }
   },
   "outputs": [
    {
     "data": {
      "text/plain": [
       "(106574, 518)"
      ]
     },
     "execution_count": 77,
     "metadata": {},
     "output_type": "execute_result"
    }
   ],
   "source": [
    "X.shape"
   ]
  },
  {
   "cell_type": "code",
   "execution_count": null,
   "id": "eedab5e6",
   "metadata": {},
   "outputs": [],
   "source": [
    "clustering_algo = [Kmean(), ...]\n",
    "dim_reduction_algo = [PCA(), ICA(),...]\n",
    "dimentions_options = [10, 50, 200, None]\n",
    "num_clusters_options = [2, 4, 6, 8, 10, 15, 20]\n",
    "best_config_by_clustering = dict()\n",
    "for clutering_algo in scores:\n",
    "    for dim_reduction in dim_reduction_algo:\n",
    "        max_score = 0\n",
    "        dim_reduction_distrabutions = defualtdict(list)\n",
    "        for dim_num in dimentions_options:\n",
    "            for cluster_num in num_clusters_options:\n",
    "                scores = []\n",
    "                for cv_data in cvs:\n",
    "                    new_data = dim_reduction(cv_data, dim_num)\n",
    "                    labdels = clutering(new_data)\n",
    "                    scores.append(sillout(labels))\n",
    "                curr_score = np.mean(scores)\n",
    "                if curr_score > max_score:\n",
    "                    max_score = curr_score\n",
    "                    dim_reduction_distrabutions[dim_reduction, \"scores\"] = scores\n",
    "                    dim_reduction_distrabutions[dim_reduction, \"mean_score\"] = max_score\n",
    "                    dim_reduction_distrabutions[dim_reduction, \"max_dim_num\"] = dim_num\n",
    "                    dim_reduction_distrabutions[dim_reduction, \"max_cluster_num\"] = cluster_num\n",
    "                    # not really metters\n",
    "\n",
    "    p_value = anova(dim_reduction_distrabutions.values())\n",
    "    if p_value < 0.05:\n",
    "        dim_reduction1, dim_reduction2 = arg_n_top(n=2, dim_reduction_distrabutions[:, \"mean_score\"])\n",
    "        t_p_value = t_test(dim_reduction_distrabutions[dim_reduction1, \"scores\"], dim_reduction_distrabutions[dim_reduction2, \"scores\"])\n",
    "        if t_p_value < 0.05:\n",
    "            best_dim_reduction = argmax(dim_reduction_distrabutions[:, \"mean_score\"])\n",
    "            best_config_by_clustering[clutering_algo] = best_dim_reduction # reduction_algo,  max_dim_num, max_cluster_num\n",
    "            # algo reduction , dimention, n_cluster\n",
    "        else:\n",
    "            print(\"same same but different\")\n",
    "    else:\n",
    "        print(\"same same but different\")\n"
   ]
  },
  {
   "cell_type": "code",
   "execution_count": null,
   "id": "33af1973",
   "metadata": {},
   "outputs": [],
   "source": [
    "# hidden variables with the best clustering and dim_reduction\n",
    "for external_var in external_vars:\n",
    "    all_mi = dict()\n",
    "    for clustering_algo, best_config in best_config_by_clustering.items():\n",
    "        for cv in cvs:\n",
    "            labels = clustering_algo(best_config, cv)\n",
    "            all_mi[external_var].append(MI(labels, external_var))\n",
    "    anova(all_mi.values())\n",
    "    # t-test with the top 2\n",
    "    # yield best_cluster_algo_per_external_var"
   ]
  },
  {
   "cell_type": "code",
   "execution_count": null,
   "id": "704359da",
   "metadata": {},
   "outputs": [],
   "source": [
    "all_mi = dict()\n",
    "for clustering_algo, best_config in best_config_by_clustering.items():\n",
    "    for external_var in external_vars:\n",
    "        for cv in cvs:\n",
    "            # change in best_config max_cluster_num to len(np.unique(external_var))\n",
    "            labels = clustering_algo(best_config, cv)\n",
    "            all_mi[clustering_algo, external_var].append(MI(labels, external_var))\n",
    "    anova(all_mi[clustering_algo, :].values())\n",
    "    # t-test with the top 2\n",
    "    # yield best_cluster_algo_per_external_var"
   ]
  },
  {
   "cell_type": "markdown",
   "id": "2885f710",
   "metadata": {},
   "source": [
    "### Cluster the remaining columns, and explain what are is the best clustering method.\n",
    "- silhouette_score\n",
    "- elbow method\n",
    "- k-fold cross validation on silhouette_score or Matual information with - kruskal wallis or anova"
   ]
  },
  {
   "cell_type": "code",
   "execution_count": null,
   "id": "5fcdbb06",
   "metadata": {},
   "outputs": [],
   "source": [
    "def get_best_model_by_silhouette(models, X)\n",
    "    for model in models:\n",
    "        labels = model.fit_predict(X)\n",
    "        scores.append(metrics.silhouette_score(X, labels))\n",
    "    plt.plot(models, scores)\n",
    "    plt.title(f\"silhouette_score diffrent models - {model_name}\")\n",
    "    plt.xlabel(\"models\")\n",
    "    plt.ylabel(\"Silhouette Score\")"
   ]
  },
  {
   "cell_type": "code",
   "execution_count": null,
   "id": "55f908f0",
   "metadata": {},
   "outputs": [],
   "source": []
  },
  {
   "cell_type": "markdown",
   "id": "52a0a632",
   "metadata": {},
   "source": [
    "### Fuzzy C-Means"
   ]
  },
  {
   "cell_type": "code",
   "execution_count": null,
   "id": "30a6931b",
   "metadata": {},
   "outputs": [],
   "source": [
    "my_model = FCM(n_clusters=2)\n",
    "my_model.fit(X)"
   ]
  },
  {
   "cell_type": "markdown",
   "id": "c4af32d6",
   "metadata": {},
   "source": [
    "#### K-Means"
   ]
  },
  {
   "cell_type": "code",
   "execution_count": null,
   "id": "cd1a4599",
   "metadata": {},
   "outputs": [],
   "source": [
    "KMeans(k, n_init=\"auto\", random_state=random_state)"
   ]
  },
  {
   "cell_type": "markdown",
   "id": "8725b031",
   "metadata": {},
   "source": [
    "#### Gaussian-Mixture"
   ]
  },
  {
   "cell_type": "code",
   "execution_count": null,
   "id": "d52861b4",
   "metadata": {},
   "outputs": [],
   "source": [
    "GaussianMixture(k, max_iter=3000)"
   ]
  },
  {
   "cell_type": "markdown",
   "id": "28878168",
   "metadata": {
    "ExecuteTime": {
     "end_time": "2023-02-03T13:25:56.391773Z",
     "start_time": "2023-02-03T13:25:56.384378Z"
    }
   },
   "source": [
    "#### Hierarchical Clustering"
   ]
  },
  {
   "cell_type": "code",
   "execution_count": null,
   "id": "f965558d",
   "metadata": {},
   "outputs": [],
   "source": [
    "import scipy.cluster.hierarchy as sch # importing scipy.cluster.hierarchy for dendrogram\n",
    "dendrogram = sch.dendrogram(sch.linkage(X, method = 'ward')) # finding the optimal number of clusters using dendrogram\n",
    "plt.title('Dendrogram') # title of the dendrogram\n",
    "plt.xlabel('Customers') # label of the x-axis\n",
    "plt.ylabel('Euclidean distances') # label of the y-axis\n",
    "plt.show() # show the dendrogram"
   ]
  },
  {
   "cell_type": "code",
   "execution_count": null,
   "id": "4194de76",
   "metadata": {},
   "outputs": [],
   "source": [
    "Agg_hc = AgglomerativeClustering(n_clusters = 5, affinity = 'euclidean', linkage = 'ward')\n",
    "y_hc = Agg_hc.fit_predict(newData)"
   ]
  },
  {
   "cell_type": "markdown",
   "id": "2e464f31",
   "metadata": {},
   "source": [
    "#### Birch - didn't learned in the class"
   ]
  },
  {
   "cell_type": "code",
   "execution_count": null,
   "id": "2950c867",
   "metadata": {},
   "outputs": [],
   "source": [
    "Birch(n_clusters=k)"
   ]
  },
  {
   "cell_type": "markdown",
   "id": "51ddeb56",
   "metadata": {},
   "source": [
    "#### Dbscan"
   ]
  },
  {
   "cell_type": "code",
   "execution_count": null,
   "id": "58fcc658",
   "metadata": {},
   "outputs": [],
   "source": [
    "\n",
    "def get_best_dbscan_params(clean_X: np.ndarray, min_samples: int):\n",
    "    range_eps = np.linspace(0.1, 10, 20)\n",
    "    scores = []\n",
    "    for eps in range_eps:\n",
    "        model = DBSCAN(eps=eps, min_samples=min_samples)\n",
    "        good_labels = model.fit_predict(clean_X)\n",
    "        noisy_data_count = len(good_labels[good_labels == -1])\n",
    "        if noisy_data_count > good_labels.shape[0] * 0.5 or len(np.unique(good_labels)) < 3:\n",
    "            scores.append(0)\n",
    "            continue\n",
    "        print(f\"noisy data count with eps={eps}: {noisy_data_count}\")\n",
    "        try:\n",
    "            score = metrics.silhouette_score(clean_X, good_labels)\n",
    "        except:\n",
    "            score = 0\n",
    "        scores.append(score)\n",
    "    plt.plot(range_eps, scores)\n",
    "    plt.show()\n",
    "    return range_eps[np.argmax(scores)]\n"
   ]
  },
  {
   "cell_type": "markdown",
   "id": "bacac3f1",
   "metadata": {},
   "source": [
    "#### SpectralClustering"
   ]
  },
  {
   "cell_type": "code",
   "execution_count": null,
   "id": "b1cfae74",
   "metadata": {},
   "outputs": [],
   "source": [
    "clustering = SpectralClustering(n_clusters=2,assign_labels='discretize',random_state=0).fit_predict(X)"
   ]
  },
  {
   "cell_type": "code",
   "execution_count": null,
   "id": "2bd9f26c",
   "metadata": {},
   "outputs": [],
   "source": []
  },
  {
   "cell_type": "markdown",
   "id": "0d1db6ca",
   "metadata": {},
   "source": [
    "### Associate the clusters with the ground truth, and explain what external variable is best associated with clusters, and what clustering method best associates with the outside variables"
   ]
  },
  {
   "cell_type": "code",
   "execution_count": null,
   "id": "6ceb9978",
   "metadata": {},
   "outputs": [],
   "source": []
  },
  {
   "cell_type": "markdown",
   "id": "3c680268",
   "metadata": {},
   "source": [
    "### Find anomalies in the data"
   ]
  },
  {
   "cell_type": "code",
   "execution_count": 17,
   "id": "84838e99",
   "metadata": {
    "ExecuteTime": {
     "end_time": "2023-02-24T11:16:30.680764Z",
     "start_time": "2023-02-24T11:16:27.531589Z"
    }
   },
   "outputs": [],
   "source": [
    "import numpy as np\n",
    "from keras import Model, Input\n",
    "from matplotlib import pyplot as plt\n",
    "from sklearn.decomposition import PCA, FastICA\n",
    "from sklearn.metrics import silhouette_score\n",
    "from sklearn.mixture import GaussianMixture\n",
    "from sklearn.cluster import KMeans, DBSCAN, AgglomerativeClustering, Birch\n",
    "from sklearn.manifold import TSNE, SpectralEmbedding, Isomap, MDS\n",
    "from fcmeans import FCM\n",
    "from sklearn.cluster import SpectralClustering\n",
    "from sklearn.ensemble import IsolationForest\n",
    "from sklearn.svm import OneClassSVM\n",
    "import hdbscan\n",
    "import scipy.cluster.hierarchy as sch"
   ]
  },
  {
   "cell_type": "markdown",
   "id": "257e5e45",
   "metadata": {},
   "source": [
    "### using DBSCAN"
   ]
  },
  {
   "cell_type": "code",
   "execution_count": 49,
   "id": "ee70cd5f",
   "metadata": {
    "ExecuteTime": {
     "end_time": "2023-02-24T11:05:57.774985Z",
     "start_time": "2023-02-24T11:05:57.393306Z"
    }
   },
   "outputs": [
    {
     "data": {
      "text/plain": [
       "[]"
      ]
     },
     "execution_count": 49,
     "metadata": {},
     "output_type": "execute_result"
    },
    {
     "data": {
      "image/png": "[encoded data removed]",
      "text/plain": [
       "<Figure size 640x480 with 1 Axes>"
      ]
     },
     "metadata": {},
     "output_type": "display_data"
    }
   ],
   "source": [
    "import scipy.cluster.hierarchy as sch\n",
    "sch.dendrogram(sch.linkage(X[np.random.randint(X.shape[0], size=100), :], method='ward'))\n",
    "plt.plot()"
   ]
  },
  {
   "cell_type": "code",
   "execution_count": 36,
   "id": "bf390fe9",
   "metadata": {
    "ExecuteTime": {
     "end_time": "2023-02-24T11:24:44.548755Z",
     "start_time": "2023-02-24T11:24:44.521583Z"
    }
   },
   "outputs": [],
   "source": [
    "model = DBSCAN(eps=0.1**2*X.shape[1], min_samples=5, n_jobs=-1)\n",
    "labels = model.fit_predict(X[np.random.randint(X.shape[0], size=1000), :])"
   ]
  },
  {
   "cell_type": "code",
   "execution_count": 37,
   "id": "3527b2a4",
   "metadata": {
    "ExecuteTime": {
     "end_time": "2023-02-24T11:24:44.915243Z",
     "start_time": "2023-02-24T11:24:44.912190Z"
    }
   },
   "outputs": [
    {
     "data": {
      "text/plain": [
       "0.013"
      ]
     },
     "execution_count": 37,
     "metadata": {},
     "output_type": "execute_result"
    }
   ],
   "source": [
    "labels[labels == -1].size / labels.size"
   ]
  },
  {
   "cell_type": "markdown",
   "id": "3080421d",
   "metadata": {},
   "source": [
    "### using isolation forest\n",
    "https://scikit-learn.org/stable/modules/generated/sklearn.ensemble.IsolationForest.html"
   ]
  },
  {
   "cell_type": "code",
   "execution_count": 68,
   "id": "2f8166a8",
   "metadata": {
    "ExecuteTime": {
     "end_time": "2023-02-24T09:39:00.388770Z",
     "start_time": "2023-02-24T09:38:33.618966Z"
    }
   },
   "outputs": [],
   "source": [
    "labels = IsolationForest(random_state=0, n_jobs=-1, n_estimators=500, max_samples=256).fit_predict(X)"
   ]
  },
  {
   "cell_type": "code",
   "execution_count": 74,
   "id": "71d8ce76",
   "metadata": {
    "ExecuteTime": {
     "end_time": "2023-02-24T09:39:44.503823Z",
     "start_time": "2023-02-24T09:39:44.490459Z"
    }
   },
   "outputs": [
    {
     "data": {
      "text/plain": [
       "0.020066537522108987"
      ]
     },
     "execution_count": 74,
     "metadata": {},
     "output_type": "execute_result"
    }
   ],
   "source": [
    "labels[labels == -1].size / labels.size"
   ]
  },
  {
   "cell_type": "markdown",
   "id": "3a2c85c7",
   "metadata": {},
   "source": [
    "### one classs svm"
   ]
  },
  {
   "cell_type": "code",
   "execution_count": 25,
   "id": "37141510",
   "metadata": {
    "ExecuteTime": {
     "end_time": "2023-02-24T11:20:23.237613Z",
     "start_time": "2023-02-24T11:20:23.186025Z"
    }
   },
   "outputs": [
    {
     "data": {
      "text/plain": [
       "0.051"
      ]
     },
     "execution_count": 25,
     "metadata": {},
     "output_type": "execute_result"
    }
   ],
   "source": [
    "labels = OneClassSVM(kernel=\"rbf\", max_iter=1000, nu=.05, gamma='scale').fit_predict(X[np.random.randint(X.shape[0], size=1000), :])\n",
    "labels[labels == -1].size / labels.size"
   ]
  },
  {
   "cell_type": "markdown",
   "id": "be5baa46",
   "metadata": {},
   "source": [
    "### test whether anomalies are associated with any of the external variables"
   ]
  },
  {
   "cell_type": "code",
   "execution_count": null,
   "id": "7a5992ee",
   "metadata": {},
   "outputs": [],
   "source": []
  },
  {
   "cell_type": "markdown",
   "id": "e7e6193c",
   "metadata": {},
   "source": [
    "### check if anomaly detection improves the clustering"
   ]
  },
  {
   "cell_type": "code",
   "execution_count": null,
   "id": "67fc8955",
   "metadata": {},
   "outputs": [],
   "source": []
  },
  {
   "cell_type": "markdown",
   "id": "8b0c30ee",
   "metadata": {},
   "source": [
    "### Reduce the dimension of the data and propose a visualization that best characterize the clusters associated with the external variables. Please find a smart presentation scheme to highlight both clusters and variables.\n",
    "\n",
    "- TSNE\n",
    "- Isomap\n",
    "- MDS\n",
    "- PCA\n",
    "- SpectralEmbedding\n",
    "- PCoA\n",
    "- LLE\n",
    "- UMAP\n",
    "- AutoEncoders\n",
    "- ICA"
   ]
  },
  {
   "cell_type": "code",
   "execution_count": 1,
   "id": "79ccf593",
   "metadata": {
    "ExecuteTime": {
     "end_time": "2023-02-24T10:32:15.721763Z",
     "start_time": "2023-02-24T10:32:15.702026Z"
    }
   },
   "outputs": [],
   "source": [
    "def reduce_dimension(X):\n",
    "    models = [TSNE(n_components=2), Isomap(n_components=2), MDS(n_components=2), SpectralEmbedding(n_components=2)]\n",
    "    fig, axs = plt.subplots(nrows=len(models), ncols=1, figsize=(8, 8))\n",
    "    fig.tight_layout()\n",
    "    for i, model in tqdm(enumerate(models)):\n",
    "        X_embedded_tsne = model.fit_transform(X)\n",
    "        axs[i].scatter(X_embedded_tsne[:, 0], X_embedded_tsne[:, 1], s=40, cmap='viridis')\n",
    "        axs[i].set_title(f\"{model} dimensionality reduction\")\n",
    "    plt.show()"
   ]
  },
  {
   "cell_type": "code",
   "execution_count": null,
   "id": "356a8657",
   "metadata": {},
   "outputs": [],
   "source": []
  },
  {
   "cell_type": "code",
   "execution_count": null,
   "id": "0d4d7342",
   "metadata": {},
   "outputs": [],
   "source": []
  },
  {
   "cell_type": "markdown",
   "id": "7f219202",
   "metadata": {},
   "source": [
    "## Dynamic Dataset"
   ]
  },
  {
   "cell_type": "code",
   "execution_count": 50,
   "id": "e055170b",
   "metadata": {
    "ExecuteTime": {
     "end_time": "2023-02-23T19:16:23.435457Z",
     "start_time": "2023-02-23T19:16:23.432187Z"
    }
   },
   "outputs": [],
   "source": [
    "def load_dynamic_dataset(data_path=\"../data/driftdataset\"):\n",
    "    dfs = []\n",
    "    for filename in os.listdir(data_path):\n",
    "        with open(os.path.join(data_path, filename), \"r\") as file:\n",
    "            df = pd.read_csv(\n",
    "                file,\n",
    "                sep=\"\\s+\",\n",
    "                skiprows=1,\n",
    "                usecols=[0, 7],\n",
    "                names=['TIME', 'XGSM']\n",
    "            )\n",
    "            dfs.append(df)\n",
    "    return pd.concat(dfs, axis=0)"
   ]
  },
  {
   "cell_type": "markdown",
   "id": "95d98aba",
   "metadata": {
    "ExecuteTime": {
     "end_time": "2023-02-03T13:41:13.442198Z",
     "start_time": "2023-02-03T13:41:13.436848Z"
    }
   },
   "source": [
    "### Hidden Markov model for time series\n",
    "https://rubikscode.net/2021/09/06/stock-price-prediction-using-hidden-markov-model/"
   ]
  },
  {
   "cell_type": "code",
   "execution_count": 51,
   "id": "f63959d7",
   "metadata": {
    "ExecuteTime": {
     "end_time": "2023-02-23T19:16:25.309230Z",
     "start_time": "2023-02-23T19:16:25.166099Z"
    }
   },
   "outputs": [],
   "source": [
    "df = load_dynamic_dataset()"
   ]
  },
  {
   "cell_type": "code",
   "execution_count": 66,
   "id": "879ab16f",
   "metadata": {
    "ExecuteTime": {
     "end_time": "2023-02-24T09:29:19.491841Z",
     "start_time": "2023-02-24T09:29:19.198040Z"
    }
   },
   "outputs": [
    {
     "name": "stderr",
     "output_type": "stream",
     "text": [
      "13900it [00:00, 50756.44it/s]\n"
     ]
    },
    {
     "ename": "TypeError",
     "evalue": "string indices must be integers",
     "output_type": "error",
     "traceback": [
      "\u001b[0;31m---------------------------------------------------------------------------\u001b[0m",
      "\u001b[0;31mTypeError\u001b[0m                                 Traceback (most recent call last)",
      "Cell \u001b[0;32mIn[66], line 11\u001b[0m\n\u001b[1;32m      6\u001b[0m     XGSM_val \u001b[38;5;241m=\u001b[39m row[\u001b[38;5;124m\"\u001b[39m\u001b[38;5;124mXGSM\u001b[39m\u001b[38;5;124m\"\u001b[39m]\u001b[38;5;241m.\u001b[39msplit(\u001b[38;5;124m\"\u001b[39m\u001b[38;5;124m:\u001b[39m\u001b[38;5;124m\"\u001b[39m)\n\u001b[1;32m      7\u001b[0m     time_series[time_val[\u001b[38;5;241m0\u001b[39m]]\u001b[38;5;241m.\u001b[39mappend({\n\u001b[1;32m      8\u001b[0m         \u001b[38;5;124m\"\u001b[39m\u001b[38;5;124mtime\u001b[39m\u001b[38;5;124m\"\u001b[39m: time_val[\u001b[38;5;241m1\u001b[39m], \n\u001b[1;32m      9\u001b[0m         \u001b[38;5;124m\"\u001b[39m\u001b[38;5;124mgas_density\u001b[39m\u001b[38;5;124m\"\u001b[39m: XGSM_val[\u001b[38;5;241m1\u001b[39m]\n\u001b[1;32m     10\u001b[0m     })\n\u001b[0;32m---> 11\u001b[0m \u001b[38;5;28mprint\u001b[39m(\u001b[38;5;28;43msorted\u001b[39;49m\u001b[43m(\u001b[49m\u001b[43mtime_series\u001b[49m\u001b[43m,\u001b[49m\u001b[43m \u001b[49m\u001b[43mkey\u001b[49m\u001b[38;5;241;43m=\u001b[39;49m\u001b[38;5;28;43;01mlambda\u001b[39;49;00m\u001b[43m \u001b[49m\u001b[43mx\u001b[49m\u001b[43m:\u001b[49m\u001b[43m \u001b[49m\u001b[43mx\u001b[49m\u001b[43m[\u001b[49m\u001b[38;5;124;43m\"\u001b[39;49m\u001b[38;5;124;43mtime\u001b[39;49m\u001b[38;5;124;43m\"\u001b[39;49m\u001b[43m]\u001b[49m\u001b[43m)\u001b[49m)\n",
      "Cell \u001b[0;32mIn[66], line 11\u001b[0m, in \u001b[0;36m<lambda>\u001b[0;34m(x)\u001b[0m\n\u001b[1;32m      6\u001b[0m     XGSM_val \u001b[38;5;241m=\u001b[39m row[\u001b[38;5;124m\"\u001b[39m\u001b[38;5;124mXGSM\u001b[39m\u001b[38;5;124m\"\u001b[39m]\u001b[38;5;241m.\u001b[39msplit(\u001b[38;5;124m\"\u001b[39m\u001b[38;5;124m:\u001b[39m\u001b[38;5;124m\"\u001b[39m)\n\u001b[1;32m      7\u001b[0m     time_series[time_val[\u001b[38;5;241m0\u001b[39m]]\u001b[38;5;241m.\u001b[39mappend({\n\u001b[1;32m      8\u001b[0m         \u001b[38;5;124m\"\u001b[39m\u001b[38;5;124mtime\u001b[39m\u001b[38;5;124m\"\u001b[39m: time_val[\u001b[38;5;241m1\u001b[39m], \n\u001b[1;32m      9\u001b[0m         \u001b[38;5;124m\"\u001b[39m\u001b[38;5;124mgas_density\u001b[39m\u001b[38;5;124m\"\u001b[39m: XGSM_val[\u001b[38;5;241m1\u001b[39m]\n\u001b[1;32m     10\u001b[0m     })\n\u001b[0;32m---> 11\u001b[0m \u001b[38;5;28mprint\u001b[39m(\u001b[38;5;28msorted\u001b[39m(time_series, key\u001b[38;5;241m=\u001b[39m\u001b[38;5;28;01mlambda\u001b[39;00m x: \u001b[43mx\u001b[49m\u001b[43m[\u001b[49m\u001b[38;5;124;43m\"\u001b[39;49m\u001b[38;5;124;43mtime\u001b[39;49m\u001b[38;5;124;43m\"\u001b[39;49m\u001b[43m]\u001b[49m))\n",
      "\u001b[0;31mTypeError\u001b[0m: string indices must be integers"
     ]
    }
   ],
   "source": [
    "from collections import defaultdict\n",
    "times = set()\n",
    "time_series = defaultdict(list)\n",
    "for i, row in tqdm(df.iterrows()):\n",
    "    time_val = row[\"TIME\"].split(\";\")\n",
    "    XGSM_val = row[\"XGSM\"].split(\":\")\n",
    "    time_series[time_val[0]].append({\n",
    "        \"time\": time_val[1], \n",
    "        \"gas_density\": XGSM_val[1]\n",
    "    })\n",
    "\n",
    "print(sorted(time_series, key=lambda x: x[\"time\"]))"
   ]
  }
 ],
 "metadata": {
  "kernelspec": {
   "display_name": "Python 3 (ipykernel)",
   "language": "python",
   "name": "python3"
  },
  "language_info": {
   "codemirror_mode": {
    "name": "ipython",
    "version": 3
   },
   "file_extension": ".py",
   "mimetype": "text/x-python",
   "name": "python",
   "nbconvert_exporter": "python",
   "pygments_lexer": "ipython3",
   "version": "3.10.8"
  }
 },
 "nbformat": 4,
 "nbformat_minor": 5
}
