{
 "cells": [
  {
   "cell_type": "markdown",
   "id": "516ea91f",
   "metadata": {},
   "source": [
    "## Exploration Part"
   ]
  },
  {
   "cell_type": "code",
   "execution_count": 11,
   "id": "d5dd874b",
   "metadata": {
    "ExecuteTime": {
     "end_time": "2023-02-24T11:15:11.747572Z",
     "start_time": "2023-02-24T11:15:11.745030Z"
    }
   },
   "outputs": [],
   "source": [
    "external_vars = [('track', 'genre_top'), ('track', 'license'), ('album', 'type')]"
   ]
  },
  {
   "cell_type": "code",
   "execution_count": null,
   "id": "b3a65a98",
   "metadata": {},
   "outputs": [],
   "source": [
    "features = pd.read_csv(os.path.join(data_path, \"features.csv\"), index_col=0, header=[0, 1, 2])\n",
    "tracks = pd.read_csv(os.path.join(data_path, \"tracks.csv\"), index_col=0, header=[0, 1])\n",
    "features.columns = features.columns.map('_'.join)\n",
    "list(set(tracks.columns) - set(tracks._get_numeric_data().columns))"
   ]
  },
  {
   "cell_type": "markdown",
   "id": "4d7cbde1",
   "metadata": {},
   "source": [
    "## Implementation Part"
   ]
  },
  {
   "cell_type": "code",
   "execution_count": null,
   "id": "454543aa",
   "metadata": {},
   "outputs": [],
   "source": []
  },
  {
   "cell_type": "code",
   "execution_count": null,
   "id": "57b47987",
   "metadata": {},
   "outputs": [],
   "source": []
  },
  {
   "cell_type": "code",
   "execution_count": null,
   "id": "b73741c2",
   "metadata": {},
   "outputs": [],
   "source": []
  },
  {
   "cell_type": "markdown",
   "id": "2885f710",
   "metadata": {},
   "source": [
    "### Cluster the remaining columns, and explain what are is the best clustering method.\n",
    "- silhouette_score\n",
    "- elbow method\n",
    "- k-fold cross validation on silhouette_score or Matual information with - kruskal wallis or anova"
   ]
  },
  {
   "cell_type": "code",
   "execution_count": null,
   "id": "55f908f0",
   "metadata": {},
   "outputs": [],
   "source": []
  },
  {
   "cell_type": "markdown",
   "id": "51ddeb56",
   "metadata": {},
   "source": [
    "#### Dbscan"
   ]
  },
  {
   "cell_type": "code",
   "execution_count": null,
   "id": "58fcc658",
   "metadata": {},
   "outputs": [],
   "source": [
    "\n",
    "def get_best_dbscan_params(clean_X: np.ndarray, min_samples: int):\n",
    "    range_eps = np.linspace(0.1, 10, 20)\n",
    "    scores = []\n",
    "    for eps in range_eps:\n",
    "        model = DBSCAN(eps=eps, min_samples=min_samples)\n",
    "        good_labels = model.fit_predict(clean_X)\n",
    "        noisy_data_count = len(good_labels[good_labels == -1])\n",
    "        if noisy_data_count > good_labels.shape[0] * 0.5 or len(np.unique(good_labels)) < 3:\n",
    "            scores.append(0)\n",
    "            continue\n",
    "        print(f\"noisy data count with eps={eps}: {noisy_data_count}\")\n",
    "        try:\n",
    "            score = metrics.silhouette_score(clean_X, good_labels)\n",
    "        except:\n",
    "            score = 0\n",
    "        scores.append(score)\n",
    "    plt.plot(range_eps, scores)\n",
    "    plt.show()\n",
    "    return range_eps[np.argmax(scores)]\n"
   ]
  },
  {
   "cell_type": "markdown",
   "id": "3c680268",
   "metadata": {},
   "source": [
    "### Find anomalies in the data"
   ]
  },
  {
   "cell_type": "code",
   "execution_count": 17,
   "id": "84838e99",
   "metadata": {
    "ExecuteTime": {
     "end_time": "2023-02-24T11:16:30.680764Z",
     "start_time": "2023-02-24T11:16:27.531589Z"
    }
   },
   "outputs": [],
   "source": [
    "import numpy as np\n",
    "from keras import Model, Input\n",
    "from matplotlib import pyplot as plt\n",
    "from sklearn.decomposition import PCA, FastICA\n",
    "from sklearn.metrics import silhouette_score\n",
    "from sklearn.mixture import GaussianMixture\n",
    "from sklearn.cluster import KMeans, DBSCAN, AgglomerativeClustering, Birch\n",
    "from sklearn.manifold import TSNE, SpectralEmbedding, Isomap, MDS\n",
    "from fcmeans import FCM\n",
    "from sklearn.cluster import SpectralClustering\n",
    "from sklearn.ensemble import IsolationForest\n",
    "from sklearn.svm import OneClassSVM\n",
    "import hdbscan\n",
    "import scipy.cluster.hierarchy as sch"
   ]
  },
  {
   "cell_type": "markdown",
   "id": "257e5e45",
   "metadata": {},
   "source": [
    "### using DBSCAN"
   ]
  },
  {
   "cell_type": "code",
   "execution_count": 49,
   "id": "ee70cd5f",
   "metadata": {
    "ExecuteTime": {
     "end_time": "2023-02-24T11:05:57.774985Z",
     "start_time": "2023-02-24T11:05:57.393306Z"
    }
   },
   "outputs": [
    {
     "data": {
      "text/plain": [
       "[]"
      ]
     },
     "execution_count": 49,
     "metadata": {},
     "output_type": "execute_result"
    },
    {
     "data": {
      "image/png": "[encoded data removed]",
      "text/plain": [
       "<Figure size 640x480 with 1 Axes>"
      ]
     },
     "metadata": {},
     "output_type": "display_data"
    }
   ],
   "source": [
    "import scipy.cluster.hierarchy as sch\n",
    "sch.dendrogram(sch.linkage(X[np.random.randint(X.shape[0], size=100), :], method='ward'))\n",
    "plt.plot()"
   ]
  },
  {
   "cell_type": "code",
   "execution_count": 36,
   "id": "bf390fe9",
   "metadata": {
    "ExecuteTime": {
     "end_time": "2023-02-24T11:24:44.548755Z",
     "start_time": "2023-02-24T11:24:44.521583Z"
    }
   },
   "outputs": [],
   "source": [
    "model = DBSCAN(eps=0.1**2*X.shape[1], min_samples=5, n_jobs=-1)\n",
    "labels = model.fit_predict(X[np.random.randint(X.shape[0], size=1000), :])"
   ]
  },
  {
   "cell_type": "code",
   "execution_count": 37,
   "id": "3527b2a4",
   "metadata": {
    "ExecuteTime": {
     "end_time": "2023-02-24T11:24:44.915243Z",
     "start_time": "2023-02-24T11:24:44.912190Z"
    }
   },
   "outputs": [
    {
     "data": {
      "text/plain": [
       "0.013"
      ]
     },
     "execution_count": 37,
     "metadata": {},
     "output_type": "execute_result"
    }
   ],
   "source": [
    "labels[labels == -1].size / labels.size"
   ]
  },
  {
   "cell_type": "code",
   "execution_count": 68,
   "id": "2f8166a8",
   "metadata": {
    "ExecuteTime": {
     "end_time": "2023-02-24T09:39:00.388770Z",
     "start_time": "2023-02-24T09:38:33.618966Z"
    }
   },
   "outputs": [],
   "source": [
    "labels = IsolationForest(random_state=0, n_jobs=-1, n_estimators=500, max_samples=256).fit_predict(X)"
   ]
  },
  {
   "cell_type": "code",
   "execution_count": 74,
   "id": "71d8ce76",
   "metadata": {
    "ExecuteTime": {
     "end_time": "2023-02-24T09:39:44.503823Z",
     "start_time": "2023-02-24T09:39:44.490459Z"
    }
   },
   "outputs": [
    {
     "data": {
      "text/plain": [
       "0.020066537522108987"
      ]
     },
     "execution_count": 74,
     "metadata": {},
     "output_type": "execute_result"
    }
   ],
   "source": [
    "labels[labels == -1].size / labels.size"
   ]
  },
  {
   "cell_type": "code",
   "execution_count": 25,
   "id": "37141510",
   "metadata": {
    "ExecuteTime": {
     "end_time": "2023-02-24T11:20:23.237613Z",
     "start_time": "2023-02-24T11:20:23.186025Z"
    }
   },
   "outputs": [
    {
     "data": {
      "text/plain": [
       "0.051"
      ]
     },
     "execution_count": 25,
     "metadata": {},
     "output_type": "execute_result"
    }
   ],
   "source": [
    "labels = OneClassSVM(kernel=\"rbf\", max_iter=1000, nu=.05, gamma='scale').fit_predict(X[np.random.randint(X.shape[0], size=1000), :])\n",
    "labels[labels == -1].size / labels.size"
   ]
  },
  {
   "cell_type": "markdown",
   "id": "be5baa46",
   "metadata": {},
   "source": [
    "### test whether anomalies are associated with any of the external variables"
   ]
  },
  {
   "cell_type": "code",
   "execution_count": null,
   "id": "7a5992ee",
   "metadata": {},
   "outputs": [],
   "source": [
    "    X, y = load_data()\n",
    "    for anomaly_algo_name, anomaly_algo in tqdm(anomaly_detection_algorithms.items(), position=0, desc=\"anomaly\", leave=False, colour='green', ncols=80):\n",
    "        if anomaly_algo is None:\n",
    "            continue\n",
    "        scores = defaultdict(list)\n",
    "        labels = anomaly_algo.fit_predict(X)\n",
    "        for external_var_name in tqdm(external_vars, position=1, desc=\"external_var\", leave=False, colour='blue', ncols=80):\n",
    "            scores[external_var_name].append(\n",
    "                mutual_info_score(\n",
    "                    labels[labels == -1],\n",
    "                    y[external_var_name].values[labels == -1]\n",
    "                )\n",
    "            )\n",
    "\n",
    "        for external_var_name, external_var_scores in scores.items():\n",
    "            print(f\"{external_var_name}: {np.mean(external_var_scores)}\")"
   ]
  },
  {
   "cell_type": "markdown",
   "id": "e7e6193c",
   "metadata": {},
   "source": [
    "### check if anomaly detection improves the clustering"
   ]
  },
  {
   "cell_type": "code",
   "execution_count": null,
   "id": "67fc8955",
   "metadata": {},
   "outputs": [],
   "source": []
  }
 ],
 "metadata": {
  "kernelspec": {
   "display_name": "Python 3 (ipykernel)",
   "language": "python",
   "name": "python3"
  },
  "language_info": {
   "codemirror_mode": {
    "name": "ipython",
    "version": 3
   },
   "file_extension": ".py",
   "mimetype": "text/x-python",
   "name": "python",
   "nbconvert_exporter": "python",
   "pygments_lexer": "ipython3",
   "version": "3.10.8"
  }
 },
 "nbformat": 4,
 "nbformat_minor": 5
}
