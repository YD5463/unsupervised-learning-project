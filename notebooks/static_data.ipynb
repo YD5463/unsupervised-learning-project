{
 "cells": [
  {
   "cell_type": "markdown",
   "id": "516ea91f",
   "metadata": {},
   "source": [
    "## Exploration Part"
   ]
  },
  {
   "cell_type": "code",
   "execution_count": 6,
   "id": "d996b85b",
   "metadata": {
    "ExecuteTime": {
     "end_time": "2023-02-27T17:21:03.365059Z",
     "start_time": "2023-02-27T17:21:02.432503Z"
    }
   },
   "outputs": [],
   "source": [
    "import pickle\n",
    "import random\n",
    "from collections import defaultdict\n",
    "from typing import Tuple, Dict, Any, List\n",
    "import numpy as np\n",
    "import os\n",
    "import pandas as pd\n",
    "from sklearn.metrics import mutual_info_score\n",
    "from sklearn.metrics import silhouette_score\n",
    "from scipy.stats import f_oneway\n",
    "from scipy.stats import ttest_rel\n",
    "from tqdm import tqdm\n",
    "from pathlib import Path\n",
    "from sklearn.preprocessing import MinMaxScaler\n",
    "from datetime import datetime\n",
    "import warnings"
   ]
  },
  {
   "cell_type": "code",
   "execution_count": 7,
   "id": "d5dd874b",
   "metadata": {
    "ExecuteTime": {
     "end_time": "2023-02-27T17:21:03.879996Z",
     "start_time": "2023-02-27T17:21:03.874044Z"
    }
   },
   "outputs": [],
   "source": [
    "data_path = \"../data/fma_metadata\"\n",
    "dimentions_options = [10, 50, 100, 200]\n",
    "num_clusters_options = [2, 4, 6, 8, 10, 12, 14, 16, 18, 20]\n",
    "num_of_cvs = 7\n",
    "cv_size = 5000\n",
    "p_value_thr = 0.05\n",
    "external_vars = [\"('track', 'genre_top')\", \"('track', 'license')\", \"('album', 'type')\"]"
   ]
  },
  {
   "cell_type": "code",
   "execution_count": 8,
   "id": "9a9d3d9c",
   "metadata": {
    "ExecuteTime": {
     "end_time": "2023-02-27T17:21:04.527665Z",
     "start_time": "2023-02-27T17:21:04.515538Z"
    }
   },
   "outputs": [],
   "source": [
    "def load_data() -> Tuple[np.ndarray, pd.DataFrame]:\n",
    "    cache_file = f\"{data_path}/clean_static_data.csv\"\n",
    "    if Path(cache_file).is_file():\n",
    "        df = pd.read_csv(cache_file)\n",
    "    else:\n",
    "        features = pd.read_csv(os.path.join(data_path, \"features.csv\"), index_col=0, header=[0, 1, 2])\n",
    "        tracks = pd.read_csv(os.path.join(data_path, \"tracks.csv\"), index_col=0, header=[0, 1])\n",
    "        features.columns = features.columns.map('_'.join)\n",
    "        df = pd.concat([features, tracks[external_vars]], axis=1)\n",
    "        df = df.dropna()\n",
    "        df.to_csv(cache_file)\n",
    "    X, y = df.drop(external_vars, axis=1), df[external_vars]\n",
    "    for column in external_vars:\n",
    "        y[column] = y[column].astype('category').cat.codes\n",
    "    X = MinMaxScaler(feature_range=(-1, 1)).fit_transform(X)\n",
    "    return X, y"
   ]
  },
  {
   "cell_type": "markdown",
   "id": "4d7cbde1",
   "metadata": {},
   "source": [
    "## Implementation Part"
   ]
  },
  {
   "cell_type": "code",
   "execution_count": 9,
   "id": "454543aa",
   "metadata": {
    "ExecuteTime": {
     "end_time": "2023-02-27T17:21:18.959770Z",
     "start_time": "2023-02-27T17:21:16.875040Z"
    }
   },
   "outputs": [
    {
     "name": "stderr",
     "output_type": "stream",
     "text": [
      "/var/folders/b6/q8hy7lgd7v7glnmnnb18fg1w0000gn/T/ipykernel_9693/2174546276.py:14: SettingWithCopyWarning: \n",
      "A value is trying to be set on a copy of a slice from a DataFrame.\n",
      "Try using .loc[row_indexer,col_indexer] = value instead\n",
      "\n",
      "See the caveats in the documentation: https://pandas.pydata.org/pandas-docs/stable/user_guide/indexing.html#returning-a-view-versus-a-copy\n",
      "  y[column] = y[column].astype('category').cat.codes\n",
      "/var/folders/b6/q8hy7lgd7v7glnmnnb18fg1w0000gn/T/ipykernel_9693/2174546276.py:14: SettingWithCopyWarning: \n",
      "A value is trying to be set on a copy of a slice from a DataFrame.\n",
      "Try using .loc[row_indexer,col_indexer] = value instead\n",
      "\n",
      "See the caveats in the documentation: https://pandas.pydata.org/pandas-docs/stable/user_guide/indexing.html#returning-a-view-versus-a-copy\n",
      "  y[column] = y[column].astype('category').cat.codes\n",
      "/var/folders/b6/q8hy7lgd7v7glnmnnb18fg1w0000gn/T/ipykernel_9693/2174546276.py:14: SettingWithCopyWarning: \n",
      "A value is trying to be set on a copy of a slice from a DataFrame.\n",
      "Try using .loc[row_indexer,col_indexer] = value instead\n",
      "\n",
      "See the caveats in the documentation: https://pandas.pydata.org/pandas-docs/stable/user_guide/indexing.html#returning-a-view-versus-a-copy\n",
      "  y[column] = y[column].astype('category').cat.codes\n"
     ]
    }
   ],
   "source": [
    "X, y = load_data()"
   ]
  },
  {
   "cell_type": "code",
   "execution_count": 11,
   "id": "57b47987",
   "metadata": {
    "ExecuteTime": {
     "end_time": "2023-02-27T17:21:51.099373Z",
     "start_time": "2023-02-27T17:21:49.294959Z"
    }
   },
   "outputs": [],
   "source": [
    "df = pd.read_csv(f\"{data_path}/clean_static_data.csv\")"
   ]
  },
  {
   "cell_type": "code",
   "execution_count": 12,
   "id": "b73741c2",
   "metadata": {
    "ExecuteTime": {
     "end_time": "2023-02-27T17:21:53.532679Z",
     "start_time": "2023-02-27T17:21:53.454622Z"
    }
   },
   "outputs": [
    {
     "data": {
      "text/html": [
       "<div>\n",
       "<style scoped>\n",
       "    .dataframe tbody tr th:only-of-type {\n",
       "        vertical-align: middle;\n",
       "    }\n",
       "\n",
       "    .dataframe tbody tr th {\n",
       "        vertical-align: top;\n",
       "    }\n",
       "\n",
       "    .dataframe thead th {\n",
       "        text-align: right;\n",
       "    }\n",
       "</style>\n",
       "<table border=\"1\" class=\"dataframe\">\n",
       "  <thead>\n",
       "    <tr style=\"text-align: right;\">\n",
       "      <th></th>\n",
       "      <th>track_id</th>\n",
       "      <th>chroma_cens_kurtosis_01</th>\n",
       "      <th>chroma_cens_kurtosis_02</th>\n",
       "      <th>chroma_cens_kurtosis_03</th>\n",
       "      <th>chroma_cens_kurtosis_04</th>\n",
       "      <th>chroma_cens_kurtosis_05</th>\n",
       "      <th>chroma_cens_kurtosis_06</th>\n",
       "      <th>chroma_cens_kurtosis_07</th>\n",
       "      <th>chroma_cens_kurtosis_08</th>\n",
       "      <th>chroma_cens_kurtosis_09</th>\n",
       "      <th>...</th>\n",
       "      <th>zcr_kurtosis_01</th>\n",
       "      <th>zcr_max_01</th>\n",
       "      <th>zcr_mean_01</th>\n",
       "      <th>zcr_median_01</th>\n",
       "      <th>zcr_min_01</th>\n",
       "      <th>zcr_skew_01</th>\n",
       "      <th>zcr_std_01</th>\n",
       "      <th>('track', 'genre_top')</th>\n",
       "      <th>('track', 'license')</th>\n",
       "      <th>('album', 'type')</th>\n",
       "    </tr>\n",
       "  </thead>\n",
       "  <tbody>\n",
       "    <tr>\n",
       "      <th>0</th>\n",
       "      <td>2</td>\n",
       "      <td>7.180653</td>\n",
       "      <td>5.230309</td>\n",
       "      <td>0.249321</td>\n",
       "      <td>1.347620</td>\n",
       "      <td>1.482478</td>\n",
       "      <td>0.531371</td>\n",
       "      <td>1.481593</td>\n",
       "      <td>2.691455</td>\n",
       "      <td>0.866868</td>\n",
       "      <td>...</td>\n",
       "      <td>5.758890</td>\n",
       "      <td>0.459473</td>\n",
       "      <td>0.085629</td>\n",
       "      <td>0.071289</td>\n",
       "      <td>0.000000</td>\n",
       "      <td>2.089872</td>\n",
       "      <td>0.061448</td>\n",
       "      <td>Hip-Hop</td>\n",
       "      <td>Attribution-NonCommercial-ShareAlike 3.0 Inter...</td>\n",
       "      <td>Album</td>\n",
       "    </tr>\n",
       "    <tr>\n",
       "      <th>1</th>\n",
       "      <td>3</td>\n",
       "      <td>1.888963</td>\n",
       "      <td>0.760539</td>\n",
       "      <td>0.345297</td>\n",
       "      <td>2.295201</td>\n",
       "      <td>1.654031</td>\n",
       "      <td>0.067592</td>\n",
       "      <td>1.366848</td>\n",
       "      <td>1.054094</td>\n",
       "      <td>0.108103</td>\n",
       "      <td>...</td>\n",
       "      <td>2.824694</td>\n",
       "      <td>0.466309</td>\n",
       "      <td>0.084578</td>\n",
       "      <td>0.063965</td>\n",
       "      <td>0.000000</td>\n",
       "      <td>1.716724</td>\n",
       "      <td>0.069330</td>\n",
       "      <td>Hip-Hop</td>\n",
       "      <td>Attribution-NonCommercial-ShareAlike 3.0 Inter...</td>\n",
       "      <td>Album</td>\n",
       "    </tr>\n",
       "    <tr>\n",
       "      <th>2</th>\n",
       "      <td>5</td>\n",
       "      <td>0.527563</td>\n",
       "      <td>-0.077654</td>\n",
       "      <td>-0.279610</td>\n",
       "      <td>0.685883</td>\n",
       "      <td>1.937570</td>\n",
       "      <td>0.880839</td>\n",
       "      <td>-0.923192</td>\n",
       "      <td>-0.927232</td>\n",
       "      <td>0.666617</td>\n",
       "      <td>...</td>\n",
       "      <td>6.808415</td>\n",
       "      <td>0.375000</td>\n",
       "      <td>0.053114</td>\n",
       "      <td>0.041504</td>\n",
       "      <td>0.000000</td>\n",
       "      <td>2.193303</td>\n",
       "      <td>0.044861</td>\n",
       "      <td>Hip-Hop</td>\n",
       "      <td>Attribution-NonCommercial-ShareAlike 3.0 Inter...</td>\n",
       "      <td>Album</td>\n",
       "    </tr>\n",
       "    <tr>\n",
       "      <th>3</th>\n",
       "      <td>10</td>\n",
       "      <td>3.702245</td>\n",
       "      <td>-0.291193</td>\n",
       "      <td>2.196742</td>\n",
       "      <td>-0.234449</td>\n",
       "      <td>1.367364</td>\n",
       "      <td>0.998411</td>\n",
       "      <td>1.770694</td>\n",
       "      <td>1.604566</td>\n",
       "      <td>0.521217</td>\n",
       "      <td>...</td>\n",
       "      <td>21.434212</td>\n",
       "      <td>0.452148</td>\n",
       "      <td>0.077515</td>\n",
       "      <td>0.071777</td>\n",
       "      <td>0.000000</td>\n",
       "      <td>3.542325</td>\n",
       "      <td>0.040800</td>\n",
       "      <td>Pop</td>\n",
       "      <td>Attribution-NonCommercial-NoDerivatives (aka M...</td>\n",
       "      <td>Album</td>\n",
       "    </tr>\n",
       "    <tr>\n",
       "      <th>4</th>\n",
       "      <td>134</td>\n",
       "      <td>0.918445</td>\n",
       "      <td>0.674147</td>\n",
       "      <td>0.577818</td>\n",
       "      <td>1.281117</td>\n",
       "      <td>0.933746</td>\n",
       "      <td>0.078177</td>\n",
       "      <td>1.199204</td>\n",
       "      <td>-0.175223</td>\n",
       "      <td>0.925482</td>\n",
       "      <td>...</td>\n",
       "      <td>4.731087</td>\n",
       "      <td>0.419434</td>\n",
       "      <td>0.064370</td>\n",
       "      <td>0.050781</td>\n",
       "      <td>0.000000</td>\n",
       "      <td>1.806106</td>\n",
       "      <td>0.054623</td>\n",
       "      <td>Hip-Hop</td>\n",
       "      <td>Attribution-NonCommercial-ShareAlike 3.0 Inter...</td>\n",
       "      <td>Album</td>\n",
       "    </tr>\n",
       "    <tr>\n",
       "      <th>...</th>\n",
       "      <td>...</td>\n",
       "      <td>...</td>\n",
       "      <td>...</td>\n",
       "      <td>...</td>\n",
       "      <td>...</td>\n",
       "      <td>...</td>\n",
       "      <td>...</td>\n",
       "      <td>...</td>\n",
       "      <td>...</td>\n",
       "      <td>...</td>\n",
       "      <td>...</td>\n",
       "      <td>...</td>\n",
       "      <td>...</td>\n",
       "      <td>...</td>\n",
       "      <td>...</td>\n",
       "      <td>...</td>\n",
       "      <td>...</td>\n",
       "      <td>...</td>\n",
       "      <td>...</td>\n",
       "      <td>...</td>\n",
       "      <td>...</td>\n",
       "    </tr>\n",
       "    <tr>\n",
       "      <th>47487</th>\n",
       "      <td>155315</td>\n",
       "      <td>-0.319850</td>\n",
       "      <td>0.653044</td>\n",
       "      <td>1.300360</td>\n",
       "      <td>-0.606061</td>\n",
       "      <td>-1.109302</td>\n",
       "      <td>-1.006683</td>\n",
       "      <td>0.059643</td>\n",
       "      <td>0.472580</td>\n",
       "      <td>-0.856436</td>\n",
       "      <td>...</td>\n",
       "      <td>6.947788</td>\n",
       "      <td>0.188477</td>\n",
       "      <td>0.037708</td>\n",
       "      <td>0.035156</td>\n",
       "      <td>0.002930</td>\n",
       "      <td>1.764233</td>\n",
       "      <td>0.018679</td>\n",
       "      <td>Rock</td>\n",
       "      <td>Creative Commons Attribution-NonCommercial-NoD...</td>\n",
       "      <td>Live Performance</td>\n",
       "    </tr>\n",
       "    <tr>\n",
       "      <th>47488</th>\n",
       "      <td>155316</td>\n",
       "      <td>-0.490129</td>\n",
       "      <td>0.463834</td>\n",
       "      <td>2.321970</td>\n",
       "      <td>-0.084352</td>\n",
       "      <td>1.662914</td>\n",
       "      <td>2.115189</td>\n",
       "      <td>-0.237794</td>\n",
       "      <td>5.695442</td>\n",
       "      <td>0.830353</td>\n",
       "      <td>...</td>\n",
       "      <td>4.448255</td>\n",
       "      <td>0.172852</td>\n",
       "      <td>0.028773</td>\n",
       "      <td>0.028320</td>\n",
       "      <td>0.003906</td>\n",
       "      <td>0.955388</td>\n",
       "      <td>0.012385</td>\n",
       "      <td>Rock</td>\n",
       "      <td>Creative Commons Attribution-NonCommercial-NoD...</td>\n",
       "      <td>Live Performance</td>\n",
       "    </tr>\n",
       "    <tr>\n",
       "      <th>47489</th>\n",
       "      <td>155317</td>\n",
       "      <td>-0.461559</td>\n",
       "      <td>-0.229601</td>\n",
       "      <td>-0.496632</td>\n",
       "      <td>-0.422033</td>\n",
       "      <td>0.130612</td>\n",
       "      <td>-0.263825</td>\n",
       "      <td>-0.628103</td>\n",
       "      <td>-0.082687</td>\n",
       "      <td>-0.229483</td>\n",
       "      <td>...</td>\n",
       "      <td>3.270612</td>\n",
       "      <td>0.196289</td>\n",
       "      <td>0.031116</td>\n",
       "      <td>0.027832</td>\n",
       "      <td>0.002441</td>\n",
       "      <td>1.283060</td>\n",
       "      <td>0.019059</td>\n",
       "      <td>Rock</td>\n",
       "      <td>Creative Commons Attribution-NonCommercial-NoD...</td>\n",
       "      <td>Live Performance</td>\n",
       "    </tr>\n",
       "    <tr>\n",
       "      <th>47490</th>\n",
       "      <td>155318</td>\n",
       "      <td>0.552473</td>\n",
       "      <td>-0.110498</td>\n",
       "      <td>-0.532014</td>\n",
       "      <td>0.263131</td>\n",
       "      <td>-0.224011</td>\n",
       "      <td>-0.530972</td>\n",
       "      <td>1.713526</td>\n",
       "      <td>1.418444</td>\n",
       "      <td>1.325197</td>\n",
       "      <td>...</td>\n",
       "      <td>2.356727</td>\n",
       "      <td>0.212891</td>\n",
       "      <td>0.038450</td>\n",
       "      <td>0.037109</td>\n",
       "      <td>0.003418</td>\n",
       "      <td>0.828569</td>\n",
       "      <td>0.017904</td>\n",
       "      <td>Rock</td>\n",
       "      <td>Creative Commons Attribution-NonCommercial-NoD...</td>\n",
       "      <td>Live Performance</td>\n",
       "    </tr>\n",
       "    <tr>\n",
       "      <th>47491</th>\n",
       "      <td>155319</td>\n",
       "      <td>-0.176901</td>\n",
       "      <td>0.187208</td>\n",
       "      <td>-0.050664</td>\n",
       "      <td>0.368843</td>\n",
       "      <td>0.066005</td>\n",
       "      <td>-0.857354</td>\n",
       "      <td>-0.780860</td>\n",
       "      <td>0.626281</td>\n",
       "      <td>-0.630938</td>\n",
       "      <td>...</td>\n",
       "      <td>6.188604</td>\n",
       "      <td>0.167480</td>\n",
       "      <td>0.041480</td>\n",
       "      <td>0.038086</td>\n",
       "      <td>0.004883</td>\n",
       "      <td>1.818740</td>\n",
       "      <td>0.020133</td>\n",
       "      <td>Rock</td>\n",
       "      <td>Creative Commons Attribution-NonCommercial-NoD...</td>\n",
       "      <td>Live Performance</td>\n",
       "    </tr>\n",
       "  </tbody>\n",
       "</table>\n",
       "<p>47492 rows × 522 columns</p>\n",
       "</div>"
      ],
      "text/plain": [
       "       track_id  chroma_cens_kurtosis_01  chroma_cens_kurtosis_02  \\\n",
       "0             2                 7.180653                 5.230309   \n",
       "1             3                 1.888963                 0.760539   \n",
       "2             5                 0.527563                -0.077654   \n",
       "3            10                 3.702245                -0.291193   \n",
       "4           134                 0.918445                 0.674147   \n",
       "...         ...                      ...                      ...   \n",
       "47487    155315                -0.319850                 0.653044   \n",
       "47488    155316                -0.490129                 0.463834   \n",
       "47489    155317                -0.461559                -0.229601   \n",
       "47490    155318                 0.552473                -0.110498   \n",
       "47491    155319                -0.176901                 0.187208   \n",
       "\n",
       "       chroma_cens_kurtosis_03  chroma_cens_kurtosis_04  \\\n",
       "0                     0.249321                 1.347620   \n",
       "1                     0.345297                 2.295201   \n",
       "2                    -0.279610                 0.685883   \n",
       "3                     2.196742                -0.234449   \n",
       "4                     0.577818                 1.281117   \n",
       "...                        ...                      ...   \n",
       "47487                 1.300360                -0.606061   \n",
       "47488                 2.321970                -0.084352   \n",
       "47489                -0.496632                -0.422033   \n",
       "47490                -0.532014                 0.263131   \n",
       "47491                -0.050664                 0.368843   \n",
       "\n",
       "       chroma_cens_kurtosis_05  chroma_cens_kurtosis_06  \\\n",
       "0                     1.482478                 0.531371   \n",
       "1                     1.654031                 0.067592   \n",
       "2                     1.937570                 0.880839   \n",
       "3                     1.367364                 0.998411   \n",
       "4                     0.933746                 0.078177   \n",
       "...                        ...                      ...   \n",
       "47487                -1.109302                -1.006683   \n",
       "47488                 1.662914                 2.115189   \n",
       "47489                 0.130612                -0.263825   \n",
       "47490                -0.224011                -0.530972   \n",
       "47491                 0.066005                -0.857354   \n",
       "\n",
       "       chroma_cens_kurtosis_07  chroma_cens_kurtosis_08  \\\n",
       "0                     1.481593                 2.691455   \n",
       "1                     1.366848                 1.054094   \n",
       "2                    -0.923192                -0.927232   \n",
       "3                     1.770694                 1.604566   \n",
       "4                     1.199204                -0.175223   \n",
       "...                        ...                      ...   \n",
       "47487                 0.059643                 0.472580   \n",
       "47488                -0.237794                 5.695442   \n",
       "47489                -0.628103                -0.082687   \n",
       "47490                 1.713526                 1.418444   \n",
       "47491                -0.780860                 0.626281   \n",
       "\n",
       "       chroma_cens_kurtosis_09  ...  zcr_kurtosis_01  zcr_max_01  zcr_mean_01  \\\n",
       "0                     0.866868  ...         5.758890    0.459473     0.085629   \n",
       "1                     0.108103  ...         2.824694    0.466309     0.084578   \n",
       "2                     0.666617  ...         6.808415    0.375000     0.053114   \n",
       "3                     0.521217  ...        21.434212    0.452148     0.077515   \n",
       "4                     0.925482  ...         4.731087    0.419434     0.064370   \n",
       "...                        ...  ...              ...         ...          ...   \n",
       "47487                -0.856436  ...         6.947788    0.188477     0.037708   \n",
       "47488                 0.830353  ...         4.448255    0.172852     0.028773   \n",
       "47489                -0.229483  ...         3.270612    0.196289     0.031116   \n",
       "47490                 1.325197  ...         2.356727    0.212891     0.038450   \n",
       "47491                -0.630938  ...         6.188604    0.167480     0.041480   \n",
       "\n",
       "       zcr_median_01  zcr_min_01  zcr_skew_01  zcr_std_01  \\\n",
       "0           0.071289    0.000000     2.089872    0.061448   \n",
       "1           0.063965    0.000000     1.716724    0.069330   \n",
       "2           0.041504    0.000000     2.193303    0.044861   \n",
       "3           0.071777    0.000000     3.542325    0.040800   \n",
       "4           0.050781    0.000000     1.806106    0.054623   \n",
       "...              ...         ...          ...         ...   \n",
       "47487       0.035156    0.002930     1.764233    0.018679   \n",
       "47488       0.028320    0.003906     0.955388    0.012385   \n",
       "47489       0.027832    0.002441     1.283060    0.019059   \n",
       "47490       0.037109    0.003418     0.828569    0.017904   \n",
       "47491       0.038086    0.004883     1.818740    0.020133   \n",
       "\n",
       "       ('track', 'genre_top')  \\\n",
       "0                     Hip-Hop   \n",
       "1                     Hip-Hop   \n",
       "2                     Hip-Hop   \n",
       "3                         Pop   \n",
       "4                     Hip-Hop   \n",
       "...                       ...   \n",
       "47487                    Rock   \n",
       "47488                    Rock   \n",
       "47489                    Rock   \n",
       "47490                    Rock   \n",
       "47491                    Rock   \n",
       "\n",
       "                                    ('track', 'license')  ('album', 'type')  \n",
       "0      Attribution-NonCommercial-ShareAlike 3.0 Inter...              Album  \n",
       "1      Attribution-NonCommercial-ShareAlike 3.0 Inter...              Album  \n",
       "2      Attribution-NonCommercial-ShareAlike 3.0 Inter...              Album  \n",
       "3      Attribution-NonCommercial-NoDerivatives (aka M...              Album  \n",
       "4      Attribution-NonCommercial-ShareAlike 3.0 Inter...              Album  \n",
       "...                                                  ...                ...  \n",
       "47487  Creative Commons Attribution-NonCommercial-NoD...   Live Performance  \n",
       "47488  Creative Commons Attribution-NonCommercial-NoD...   Live Performance  \n",
       "47489  Creative Commons Attribution-NonCommercial-NoD...   Live Performance  \n",
       "47490  Creative Commons Attribution-NonCommercial-NoD...   Live Performance  \n",
       "47491  Creative Commons Attribution-NonCommercial-NoD...   Live Performance  \n",
       "\n",
       "[47492 rows x 522 columns]"
      ]
     },
     "execution_count": 12,
     "metadata": {},
     "output_type": "execute_result"
    }
   ],
   "source": [
    "df"
   ]
  },
  {
   "cell_type": "code",
   "execution_count": null,
   "id": "d97856f8",
   "metadata": {},
   "outputs": [],
   "source": []
  },
  {
   "cell_type": "code",
   "execution_count": null,
   "id": "07f37c16",
   "metadata": {},
   "outputs": [],
   "source": []
  },
  {
   "cell_type": "code",
   "execution_count": null,
   "id": "856cb430",
   "metadata": {},
   "outputs": [],
   "source": []
  },
  {
   "cell_type": "code",
   "execution_count": null,
   "id": "3d226121",
   "metadata": {},
   "outputs": [],
   "source": []
  },
  {
   "cell_type": "code",
   "execution_count": null,
   "id": "47831640",
   "metadata": {},
   "outputs": [],
   "source": []
  },
  {
   "cell_type": "code",
   "execution_count": null,
   "id": "1d5ee790",
   "metadata": {},
   "outputs": [],
   "source": []
  },
  {
   "cell_type": "markdown",
   "id": "2885f710",
   "metadata": {},
   "source": [
    "### Cluster the remaining columns, and explain what are is the best clustering method.\n",
    "- silhouette_score\n",
    "- elbow method\n",
    "- k-fold cross validation on silhouette_score or Matual information with - kruskal wallis or anova"
   ]
  },
  {
   "cell_type": "code",
   "execution_count": 13,
   "id": "77d179d5",
   "metadata": {
    "ExecuteTime": {
     "end_time": "2023-02-27T18:04:33.102997Z",
     "start_time": "2023-02-27T18:04:23.299052Z"
    }
   },
   "outputs": [],
   "source": [
    "import numpy as np\n",
    "from sklearn.decomposition import PCA, FastICA\n",
    "from sklearn.mixture import GaussianMixture\n",
    "from sklearn.cluster import KMeans, DBSCAN, AgglomerativeClustering, Birch, BisectingKMeans\n",
    "from sklearn.manifold import TSNE, SpectralEmbedding, Isomap, MDS\n",
    "from fcmeans import FCM\n",
    "from sklearn.cluster import SpectralClustering\n",
    "from sklearn.ensemble import IsolationForest\n",
    "from sklearn.svm import OneClassSVM\n",
    "from sklearn.manifold import LocallyLinearEmbedding\n",
    "from umap import UMAP\n",
    "\n",
    "\n",
    "def k_mean(k, data: np.ndarray):\n",
    "    model = KMeans(k, max_iter=1000)\n",
    "    labels = model.fit_predict(data)\n",
    "    return labels\n",
    "\n",
    "\n",
    "def fuzzy_c_means(k, data: np.ndarray):\n",
    "    model = FCM(n_clusters=k, n_jobs=-1)\n",
    "    model.fit(data)\n",
    "    return model.predict(data)\n",
    "\n",
    "\n",
    "def gaussian_mixture(k: int, data: np.ndarray):\n",
    "    model = GaussianMixture(k, max_iter=3000)\n",
    "    labels = model.fit_predict(data)\n",
    "    return labels\n",
    "\n",
    "\n",
    "def hierarchical_clustering(k: int, data: np.ndarray):\n",
    "    model = AgglomerativeClustering(n_clusters=k, affinity='euclidean', linkage='ward')\n",
    "    labels = model.fit_predict(data)\n",
    "    return labels\n",
    "\n",
    "\n",
    "def birch(k: int, data: np.ndarray):\n",
    "    model = Birch(n_clusters=k)\n",
    "    labels = model.fit_predict(data)\n",
    "    return labels\n",
    "\n",
    "\n",
    "def spectral_clustering(k: int, data: np.ndarray):\n",
    "    model = SpectralClustering(n_clusters=k, assign_labels='discretize', n_jobs=-1)\n",
    "    labels = model.fit_predict(data)\n",
    "    return labels\n",
    "\n",
    "\n",
    "def dbscan(k: int, data: np.ndarray):\n",
    "    model = DBSCAN(eps=((k / 100) ** 2) * data.shape[1], min_samples=5, n_jobs=-1)\n",
    "    labels = model.fit_predict(data)\n",
    "    return labels\n",
    "\n",
    "\n",
    "def bisecting_kmeans(k: int, data: np.ndarray):\n",
    "    model = BisectingKMeans(n_clusters=k)\n",
    "    labels = model.fit_predict(data)\n",
    "    return labels\n",
    "\n",
    "\n",
    "clustering_algorithms = {\n",
    "    \"k_mean\": k_mean,\n",
    "    \"fuzzy_c_means\": fuzzy_c_means,\n",
    "    \"gaussian_mixture\": gaussian_mixture,\n",
    "    \"hierarchical_clustering\": hierarchical_clustering,\n",
    "    \"birch\": birch,\n",
    "    \"spectral_clustering\": spectral_clustering,\n",
    "    \"dbscan\": dbscan,\n",
    "    \"bisecting_kmeans\": bisecting_kmeans\n",
    "}\n",
    "\n",
    "dim_reduction_algorithms = {\n",
    "    \"MDS\": lambda k: MDS(n_components=k, n_jobs=-1, max_iter=300),\n",
    "    \"PCA\": lambda k: PCA(n_components=k),\n",
    "    \"FastICA\": lambda k: FastICA(n_components=k, max_iter=200),\n",
    "    \"without_reduction\": None,\n",
    "    \"Isomap\": lambda k: Isomap(n_components=k, n_jobs=-1, max_iter=200),\n",
    "    \"SpectralEmbedding\": lambda k: SpectralEmbedding(n_components=k, n_jobs=-1),\n",
    "    \"LLE\": lambda k: LocallyLinearEmbedding(n_components=k, n_jobs=-1),\n",
    "    \"UMAP\": lambda k: UMAP(n_neighbors=100, n_components=k, n_epochs=1000, init='spectral', low_memory=False, verbose=False)\n",
    "    # \"TSNE\": lambda k: TSNE(n_components=k, method=\"exact\", init=\"random\", n_jobs=-1, n_iter=250),\n",
    "}\n",
    "\n",
    "anomaly_detection_algorithms = {\n",
    "    \"without_anomaly\": None,\n",
    "    \"OneClassSVM\": OneClassSVM(kernel=\"rbf\", nu=0.01, gamma='scale'),\n",
    "    \"IsolationForest\": IsolationForest(random_state=0, n_jobs=-1, n_estimators=500, max_samples=256),\n",
    "    \"DBSCAN\": DBSCAN(eps=5, min_samples=5, n_jobs=-1)\n",
    "}\n"
   ]
  },
  {
   "cell_type": "code",
   "execution_count": 14,
   "id": "55f908f0",
   "metadata": {
    "ExecuteTime": {
     "end_time": "2023-02-27T18:04:33.125232Z",
     "start_time": "2023-02-27T18:04:33.105775Z"
    }
   },
   "outputs": [],
   "source": [
    "import pickle\n",
    "import random\n",
    "from collections import defaultdict\n",
    "from typing import Tuple, Dict, Any, List\n",
    "import numpy as np\n",
    "import os\n",
    "import pandas as pd\n",
    "from sklearn.metrics import mutual_info_score\n",
    "from sklearn.metrics import silhouette_score\n",
    "from scipy.stats import f_oneway\n",
    "from scipy.stats import ttest_rel\n",
    "from tqdm import tqdm\n",
    "from pathlib import Path\n",
    "from sklearn.preprocessing import MinMaxScaler\n",
    "from datetime import datetime\n",
    "import warnings\n",
    "\n",
    "warnings.filterwarnings(\"ignore\")\n",
    "\n",
    "OUTPUT_PATH = \"../output/\"\n",
    "Path(OUTPUT_PATH).mkdir(parents=True, exist_ok=True)\n",
    "CACHE_PATH = \"../cache/\"\n",
    "Path(CACHE_PATH).mkdir(parents=True, exist_ok=True)\n",
    "\n",
    "# Config\n",
    "# random_state = 0\n",
    "data_path = \"../data/fma_metadata\"\n",
    "dimentions_options = [10, 50, 100, 200]\n",
    "num_clusters_options = [2, 4, 6, 8, 10, 12, 14, 16, 18, 20]\n",
    "num_of_cvs = 5\n",
    "cv_size = 5000\n",
    "p_value_thr = 0.05\n",
    "external_vars = [\"('track', 'genre_top')\", \"('track', 'license')\", \"('album', 'type')\"]\n",
    "\n",
    "\n",
    "def start_new_experiment(exp_name: str):\n",
    "    global OUTPUT_PATH\n",
    "    global CACHE_PATH\n",
    "    suffix = f\"{exp_name}-{datetime.today().strftime('%m-%d %H:%M:%S')}\"\n",
    "    OUTPUT_PATH = f\"../output/{suffix}/\"\n",
    "    Path(OUTPUT_PATH).mkdir(parents=True, exist_ok=True)\n",
    "    CACHE_PATH = f\"../cache/{exp_name}/\"\n",
    "    # Path(CACHE_PATH).mkdir(parents=True, exist_ok=True)\n",
    "\n",
    "\n",
    "def load_data() -> Tuple[np.ndarray, pd.DataFrame]:\n",
    "    cache_file = f\"{data_path}/clean_static_data.csv\"\n",
    "    if Path(cache_file).is_file():\n",
    "        df = pd.read_csv(cache_file)\n",
    "    else:\n",
    "        features = pd.read_csv(os.path.join(data_path, \"features.csv\"), index_col=0, header=[0, 1, 2])\n",
    "        tracks = pd.read_csv(os.path.join(data_path, \"tracks.csv\"), index_col=0, header=[0, 1])\n",
    "        features.columns = features.columns.map('_'.join)\n",
    "        df = pd.concat([features, tracks[external_vars]], axis=1)\n",
    "        df = df.dropna()\n",
    "        df.to_csv(cache_file)\n",
    "    X, y = df.drop(external_vars, axis=1), df[external_vars]\n",
    "    for column in external_vars:\n",
    "        y[column] = y[column].astype('category').cat.codes\n",
    "    X = MinMaxScaler(feature_range=(-1, 1)).fit_transform(X)\n",
    "    return X, y\n",
    "\n",
    "\n",
    "def generate_cvs(X: np.ndarray, y: pd.DataFrame) -> Tuple[List[np.ndarray], List[pd.DataFrame]]:\n",
    "    X_cvs = []\n",
    "    y_cvs = []\n",
    "    for i in range(num_of_cvs):\n",
    "        rows = np.random.randint(X.shape[0], size=cv_size)\n",
    "        X_cvs.append(X[rows, :])\n",
    "        y_cvs.append(y.iloc[rows])\n",
    "    return X_cvs, y_cvs\n",
    "\n",
    "\n",
    "def reduction_algo_wrapper(reduction_algo_name: str, dim_num: int, cv_data: np.ndarray, cv_id: int) -> np.ndarray:\n",
    "    reduction_algo = dim_reduction_algorithms[reduction_algo_name]\n",
    "    if reduction_algo is None:\n",
    "        return cv_data\n",
    "    cache_file = os.path.join(CACHE_PATH, f\"{reduction_algo_name}-{dim_num}-{cv_id}.pkl\")\n",
    "    if Path(cache_file).is_file():\n",
    "        with open(cache_file, \"rb\") as file:\n",
    "            return pickle.load(file)\n",
    "    cv_data = reduction_algo(dim_num).fit_transform(cv_data)\n",
    "    with open(cache_file, \"wb\") as file:\n",
    "        pickle.dump(cv_data, file)\n",
    "    return cv_data\n",
    "\n",
    "\n",
    "def find_best_algo(scores_mapping: Dict[str, List[float]], random_when_same: bool = True) -> str:\n",
    "    _, p_value = f_oneway(*list(scores_mapping.values()))\n",
    "    best_algo = random.choice(list(scores_mapping.values()))\n",
    "    if p_value < p_value_thr:\n",
    "        sorted_scores = sorted(\n",
    "            scores_mapping,\n",
    "            key=lambda key: np.mean(scores_mapping[key]),\n",
    "            reverse=True\n",
    "        )\n",
    "        candidate1, candidate2 = sorted_scores[:2]\n",
    "        _, t_test_p_value = ttest_rel(\n",
    "            scores_mapping[candidate1],\n",
    "            scores_mapping[candidate2]\n",
    "        )\n",
    "        best_algo_name: str = sorted_scores[0]\n",
    "        best_algo = scores_mapping[best_algo_name]\n",
    "        if t_test_p_value >= p_value_thr:\n",
    "            print(f\"followed by t-test: algorithms {candidate1}, {candidate2} are the same\")\n",
    "            if not random_when_same:\n",
    "                return f\"{candidate1, candidate2}\"\n",
    "    else:\n",
    "        print(f\"followed by annova: algorithms {scores_mapping.keys()} are the same\")\n",
    "        if not random_when_same:\n",
    "            return \"\"\n",
    "    return best_algo\n",
    "\n",
    "\n",
    "def get_silhouette_scores(\n",
    "        X_cvs: List[np.ndarray],\n",
    "        clustering_algo_name: str, reduction_algo_name: str,\n",
    "        dim_num: int, k_clusters: int\n",
    ") -> List[float]:\n",
    "    scores = []\n",
    "    for cv_id, cv_data in tqdm(enumerate(X_cvs)):\n",
    "        try:\n",
    "            cv_data = reduction_algo_wrapper(reduction_algo_name, dim_num, cv_data, cv_id)\n",
    "            print(f\"doing {clustering_algo_name} for {cv_data.shape} by {reduction_algo_name}\")\n",
    "            labels = clustering_algorithms[clustering_algo_name](k_clusters, cv_data)\n",
    "            print(f\"anomaly: {labels[labels == -1].size / labels.size}\")\n",
    "            scores.append(silhouette_score(cv_data[labels != -1], labels[labels != -1]))\n",
    "        except Exception as e:\n",
    "            print(e)\n",
    "            scores.append(-1)\n",
    "    return scores\n",
    "\n",
    "\n",
    "def find_best_config_by_clustering(X_cvs: List[np.ndarray]) -> Dict[str, Dict[str, Any]]:\n",
    "    best_config_by_clustering = dict()\n",
    "    for clustering_algo_name in clustering_algorithms.keys():\n",
    "        dim_reduction_scores = dict()\n",
    "        dim_reduction_meta: Dict[str, Dict[str, Any]] = dict()\n",
    "        for reduction_algo_name in tqdm(dim_reduction_algorithms.keys()):\n",
    "            max_score = float(\"-inf\")\n",
    "            for dim_num in tqdm(dimentions_options):\n",
    "                for k_clusters in tqdm(num_clusters_options):\n",
    "                    scores = get_silhouette_scores(\n",
    "                        X_cvs, clustering_algo_name,\n",
    "                        reduction_algo_name, dim_num, k_clusters\n",
    "                    )\n",
    "                    curr_score = np.mean(scores)\n",
    "                    if curr_score > max_score:\n",
    "                        max_score = curr_score\n",
    "                        dim_reduction_scores[reduction_algo_name] = scores\n",
    "                        dim_reduction_meta[reduction_algo_name] = {\n",
    "                            \"max_score\": max_score,\n",
    "                            \"max_dim_num\": dim_num,\n",
    "                            \"max_cluster_num\": k_clusters,\n",
    "                            \"scores\": scores,\n",
    "                            \"reduction_algo_name\": reduction_algo_name\n",
    "                        }\n",
    "        best_algo_name = find_best_algo(dim_reduction_scores)\n",
    "        best_config_by_clustering[clustering_algo_name] = dim_reduction_meta[best_algo_name]\n",
    "        print(f\"picking for {clustering_algo_name}: {best_config_by_clustering[clustering_algo_name]}\")\n",
    "    return best_config_by_clustering\n",
    "\n",
    "\n",
    "def find_best_cluster_algo_per_external_var(X_cvs: List[np.ndarray], y_cvs: List[pd.DataFrame],\n",
    "                                            best_config_by_clustering: Dict[str, Dict[str, Any]]):\n",
    "    # hidden variables with the best clustering and dim_reduction\n",
    "    best_cluster_algo_per_external_var = dict()\n",
    "    for external_var_name in external_vars:\n",
    "        all_mi = dict()\n",
    "        for clustering_algo_name, clustering_algo in tqdm(clustering_algorithms.items()):\n",
    "            scores = []\n",
    "            best_config = best_config_by_clustering[clustering_algo_name]\n",
    "            for cv_id, (cv_data, cv_y_true) in tqdm(enumerate(zip(X_cvs, y_cvs))):\n",
    "                try:\n",
    "                    cv_data = reduction_algo_wrapper(\n",
    "                        best_config[\"reduction_algo_name\"],\n",
    "                        best_config[\"max_dim_num\"],\n",
    "                        cv_data, cv_id\n",
    "                    )\n",
    "                    labels = clustering_algo(best_config[\"max_cluster_num\"], cv_data)\n",
    "                    scores.append(mutual_info_score(labels, cv_y_true[external_var_name].values))\n",
    "                except Exception as e:\n",
    "                    print(e)\n",
    "                    scores.append(-1)\n",
    "            all_mi[clustering_algo_name] = scores\n",
    "        best_algo_name = find_best_algo(all_mi)\n",
    "        best_cluster_algo_per_external_var[external_var_name] = {\n",
    "            \"algo_name\": best_algo_name,\n",
    "            \"scores\": all_mi[best_algo_name]\n",
    "        }\n",
    "    print(best_cluster_algo_per_external_var)\n",
    "    with open(f\"{OUTPUT_PATH}/best_cluster_algo_per_external_var.pkl\", \"wb\") as file:\n",
    "        pickle.dump(best_cluster_algo_per_external_var, file)\n",
    "    return best_cluster_algo_per_external_var\n",
    "\n",
    "\n",
    "def find_best_external_var_per_clustering(X_cvs: List[np.ndarray], y_cvs: List[pd.DataFrame],\n",
    "                                          best_config_by_clustering: Dict[str, Dict[str, Any]]):\n",
    "    best_external_var_per_clustering = dict()\n",
    "    for clustering_algo_name, clustering_algo in clustering_algorithms.items():\n",
    "        all_mi = dict()\n",
    "        for external_var_name in tqdm(external_vars):\n",
    "            scores = []\n",
    "            best_config = best_config_by_clustering[clustering_algo_name]\n",
    "            for cv_id, (cv_data, cv_y_true) in tqdm(enumerate(zip(X_cvs, y_cvs))):\n",
    "                try:\n",
    "                    cv_data = reduction_algo_wrapper(\n",
    "                        best_config[\"reduction_algo_name\"],\n",
    "                        best_config[\"max_dim_num\"],\n",
    "                        cv_data, cv_id\n",
    "                    )\n",
    "                    labels = clustering_algo(cv_y_true[external_var_name].nunique(), cv_data)\n",
    "                    scores.append(mutual_info_score(labels, cv_y_true[external_var_name].values))\n",
    "                except Exception as e:\n",
    "                    print(e)\n",
    "                    scores.append(-1)\n",
    "            all_mi[external_var_name] = scores\n",
    "        best_external_var_per_clustering[clustering_algo_name] = find_best_algo(all_mi, random_when_same=False)\n",
    "    print(best_external_var_per_clustering)\n",
    "    with open(f\"{OUTPUT_PATH}/best_external_var_per_clustering.pkl\", \"wb\") as file:\n",
    "        pickle.dump(best_external_var_per_clustering, file)\n",
    "    return best_external_var_per_clustering\n",
    "\n",
    "\n",
    "def full_flow():\n",
    "    X, y = load_data()\n",
    "    X_cvs, y_cvs = generate_cvs(X, y)\n",
    "    for anomaly_algo_name, anomaly_algo in tqdm(anomaly_detection_algorithms.items()):\n",
    "        print(f\"\\n\\n--------------{anomaly_algo_name}-------------\\n\")\n",
    "        start_new_experiment(anomaly_algo_name)\n",
    "        if anomaly_algo:\n",
    "            labels = anomaly_algo.fit_predict(X)\n",
    "            X_cvs, y_cvs = generate_cvs(X[labels != -1], y[labels != -1])\n",
    "        best_config_by_clustering = find_best_config_by_clustering(X_cvs)\n",
    "        best_cluster_algo_per_external_var = find_best_cluster_algo_per_external_var(X_cvs, y_cvs,\n",
    "                                                                                     best_config_by_clustering)\n",
    "        best_external_var_per_clustering = find_best_external_var_per_clustering(X_cvs, y_cvs,\n",
    "                                                                                 best_config_by_clustering)\n",
    "        print(\"--------best_config_by_clustering------------\")\n",
    "        print(best_config_by_clustering)\n",
    "        print(\"\\n--------best_cluster_algo_per_external_var------------\")\n",
    "        print(best_cluster_algo_per_external_var)\n",
    "        print(\"\\n--------best_external_var_per_clustering------------\")\n",
    "        print(best_external_var_per_clustering)\n",
    "\n",
    "\n",
    "def external_var_to_anomalies():\n",
    "    X, y = load_data()\n",
    "    for anomaly_algo_name, anomaly_algo in tqdm(anomaly_detection_algorithms.items(), position=0, desc=\"anomaly\", leave=False, colour='green', ncols=80):\n",
    "        if anomaly_algo is None:\n",
    "            continue\n",
    "        scores = defaultdict(list)\n",
    "        labels = anomaly_algo.fit_predict(X)\n",
    "        for external_var_name in tqdm(external_vars, position=1, desc=\"external_var\", leave=False, colour='blue', ncols=80):\n",
    "            print(y[external_var_name].values[labels == -1])\n",
    "            scores[external_var_name].append(\n",
    "                mutual_info_score(\n",
    "                    labels[labels == -1],\n",
    "                    y[external_var_name].values[labels == -1]\n",
    "                )\n",
    "            )\n",
    "\n",
    "        for external_var_name, external_var_scores in scores.items():\n",
    "            print(f\"{external_var_name}: {np.mean(external_var_scores)}\")\n",
    "\n"
   ]
  },
  {
   "cell_type": "code",
   "execution_count": 15,
   "id": "785fbbc3",
   "metadata": {
    "ExecuteTime": {
     "end_time": "2023-02-27T18:05:11.646774Z",
     "start_time": "2023-02-27T18:05:09.730019Z"
    }
   },
   "outputs": [],
   "source": [
    "X, y = load_data()\n",
    "rows = np.random.randint(X.shape[0], size=cv_size)\n",
    "X = X[rows, :]"
   ]
  },
  {
   "cell_type": "code",
   "execution_count": 26,
   "id": "95a4656a",
   "metadata": {
    "ExecuteTime": {
     "end_time": "2023-02-27T18:10:36.742844Z",
     "start_time": "2023-02-27T18:10:36.359530Z"
    }
   },
   "outputs": [
    {
     "data": {
      "text/plain": [
       "5.162579960528059"
      ]
     },
     "execution_count": 26,
     "metadata": {},
     "output_type": "execute_result"
    }
   ],
   "source": [
    "from sklearn.metrics.pairwise import euclidean_distances\n",
    "euclidean_distances(X, X).mean()"
   ]
  },
  {
   "cell_type": "code",
   "execution_count": 30,
   "id": "ffda27e2",
   "metadata": {
    "ExecuteTime": {
     "end_time": "2023-02-27T18:16:58.770494Z",
     "start_time": "2023-02-27T18:16:58.370741Z"
    },
    "scrolled": true
   },
   "outputs": [
    {
     "data": {
      "text/plain": [
       "[<matplotlib.lines.Line2D at 0x2d3cbceb0>]"
      ]
     },
     "execution_count": 30,
     "metadata": {},
     "output_type": "execute_result"
    },
    {
     "data": {
      "image/png": "[encoded data removed]",
      "text/plain": [
       "<Figure size 640x480 with 1 Axes>"
      ]
     },
     "metadata": {},
     "output_type": "display_data"
    }
   ],
   "source": [
    "from sklearn.neighbors import NearestNeighbors\n",
    "import matplotlib.pyplot as plt\n",
    "import seaborn as sns\n",
    "sns.set()\n",
    "neigh = NearestNeighbors(n_neighbors=2)\n",
    "nbrs = neigh.fit(X)\n",
    "distances, indices = nbrs.kneighbors(X)\n",
    "distances = np.sort(distances, axis=0)\n",
    "distances = distances[:,1]\n",
    "plt.plot(distances)"
   ]
  },
  {
   "cell_type": "code",
   "execution_count": 21,
   "id": "a5817d99",
   "metadata": {
    "ExecuteTime": {
     "end_time": "2023-02-27T18:06:35.025313Z",
     "start_time": "2023-02-27T18:06:34.965965Z"
    }
   },
   "outputs": [
    {
     "data": {
      "text/plain": [
       "519"
      ]
     },
     "execution_count": 21,
     "metadata": {},
     "output_type": "execute_result"
    }
   ],
   "source": [
    "X.shape[1]"
   ]
  },
  {
   "cell_type": "code",
   "execution_count": 33,
   "id": "5216fe31",
   "metadata": {
    "ExecuteTime": {
     "end_time": "2023-02-27T18:19:32.904682Z",
     "start_time": "2023-02-27T18:19:32.900473Z"
    }
   },
   "outputs": [
    {
     "name": "stdout",
     "output_type": "stream",
     "text": [
      "('track', 'genre_top') 16\n",
      "('track', 'license') 88\n",
      "('album', 'type') 4\n"
     ]
    }
   ],
   "source": [
    "for column in y.columns:\n",
    "    print(column, y[column].nunique())"
   ]
  },
  {
   "cell_type": "code",
   "execution_count": null,
   "id": "bfd26d81",
   "metadata": {},
   "outputs": [],
   "source": [
    "full_flow()"
   ]
  },
  {
   "cell_type": "markdown",
   "id": "51ddeb56",
   "metadata": {},
   "source": [
    "#### Dbscan"
   ]
  },
  {
   "cell_type": "code",
   "execution_count": null,
   "id": "58fcc658",
   "metadata": {},
   "outputs": [],
   "source": [
    "\n",
    "def get_best_dbscan_params(clean_X: np.ndarray, min_samples: int):\n",
    "    range_eps = np.linspace(0.1, 10, 20)\n",
    "    scores = []\n",
    "    for eps in range_eps:\n",
    "        model = DBSCAN(eps=eps, min_samples=min_samples)\n",
    "        good_labels = model.fit_predict(clean_X)\n",
    "        noisy_data_count = len(good_labels[good_labels == -1])\n",
    "        if noisy_data_count > good_labels.shape[0] * 0.5 or len(np.unique(good_labels)) < 3:\n",
    "            scores.append(0)\n",
    "            continue\n",
    "        print(f\"noisy data count with eps={eps}: {noisy_data_count}\")\n",
    "        try:\n",
    "            score = metrics.silhouette_score(clean_X, good_labels)\n",
    "        except:\n",
    "            score = 0\n",
    "        scores.append(score)\n",
    "    plt.plot(range_eps, scores)\n",
    "    plt.show()\n",
    "    return range_eps[np.argmax(scores)]\n"
   ]
  },
  {
   "cell_type": "markdown",
   "id": "3c680268",
   "metadata": {},
   "source": [
    "### Find anomalies in the data"
   ]
  },
  {
   "cell_type": "code",
   "execution_count": 17,
   "id": "84838e99",
   "metadata": {
    "ExecuteTime": {
     "end_time": "2023-02-24T11:16:30.680764Z",
     "start_time": "2023-02-24T11:16:27.531589Z"
    }
   },
   "outputs": [],
   "source": [
    "import numpy as np\n",
    "from keras import Model, Input\n",
    "from matplotlib import pyplot as plt\n",
    "from sklearn.decomposition import PCA, FastICA\n",
    "from sklearn.metrics import silhouette_score\n",
    "from sklearn.mixture import GaussianMixture\n",
    "from sklearn.cluster import KMeans, DBSCAN, AgglomerativeClustering, Birch\n",
    "from sklearn.manifold import TSNE, SpectralEmbedding, Isomap, MDS\n",
    "from fcmeans import FCM\n",
    "from sklearn.cluster import SpectralClustering\n",
    "from sklearn.ensemble import IsolationForest\n",
    "from sklearn.svm import OneClassSVM\n",
    "import hdbscan\n",
    "import scipy.cluster.hierarchy as sch"
   ]
  },
  {
   "cell_type": "markdown",
   "id": "257e5e45",
   "metadata": {},
   "source": [
    "### using DBSCAN"
   ]
  },
  {
   "cell_type": "code",
   "execution_count": 49,
   "id": "ee70cd5f",
   "metadata": {
    "ExecuteTime": {
     "end_time": "2023-02-24T11:05:57.774985Z",
     "start_time": "2023-02-24T11:05:57.393306Z"
    }
   },
   "outputs": [
    {
     "data": {
      "text/plain": [
       "[]"
      ]
     },
     "execution_count": 49,
     "metadata": {},
     "output_type": "execute_result"
    },
    {
     "data": {
      "image/png": "[encoded data removed]",
      "text/plain": [
       "<Figure size 640x480 with 1 Axes>"
      ]
     },
     "metadata": {},
     "output_type": "display_data"
    }
   ],
   "source": [
    "import scipy.cluster.hierarchy as sch\n",
    "sch.dendrogram(sch.linkage(X[np.random.randint(X.shape[0], size=100), :], method='ward'))\n",
    "plt.plot()"
   ]
  },
  {
   "cell_type": "code",
   "execution_count": 36,
   "id": "bf390fe9",
   "metadata": {
    "ExecuteTime": {
     "end_time": "2023-02-24T11:24:44.548755Z",
     "start_time": "2023-02-24T11:24:44.521583Z"
    }
   },
   "outputs": [],
   "source": [
    "model = DBSCAN(eps=0.1**2*X.shape[1], min_samples=5, n_jobs=-1)\n",
    "labels = model.fit_predict(X[np.random.randint(X.shape[0], size=1000), :])"
   ]
  },
  {
   "cell_type": "code",
   "execution_count": 37,
   "id": "3527b2a4",
   "metadata": {
    "ExecuteTime": {
     "end_time": "2023-02-24T11:24:44.915243Z",
     "start_time": "2023-02-24T11:24:44.912190Z"
    }
   },
   "outputs": [
    {
     "data": {
      "text/plain": [
       "0.013"
      ]
     },
     "execution_count": 37,
     "metadata": {},
     "output_type": "execute_result"
    }
   ],
   "source": [
    "labels[labels == -1].size / labels.size"
   ]
  },
  {
   "cell_type": "code",
   "execution_count": 68,
   "id": "2f8166a8",
   "metadata": {
    "ExecuteTime": {
     "end_time": "2023-02-24T09:39:00.388770Z",
     "start_time": "2023-02-24T09:38:33.618966Z"
    }
   },
   "outputs": [],
   "source": [
    "labels = IsolationForest(random_state=0, n_jobs=-1, n_estimators=500, max_samples=256).fit_predict(X)"
   ]
  },
  {
   "cell_type": "code",
   "execution_count": 74,
   "id": "71d8ce76",
   "metadata": {
    "ExecuteTime": {
     "end_time": "2023-02-24T09:39:44.503823Z",
     "start_time": "2023-02-24T09:39:44.490459Z"
    }
   },
   "outputs": [
    {
     "data": {
      "text/plain": [
       "0.020066537522108987"
      ]
     },
     "execution_count": 74,
     "metadata": {},
     "output_type": "execute_result"
    }
   ],
   "source": [
    "labels[labels == -1].size / labels.size"
   ]
  },
  {
   "cell_type": "code",
   "execution_count": 25,
   "id": "37141510",
   "metadata": {
    "ExecuteTime": {
     "end_time": "2023-02-24T11:20:23.237613Z",
     "start_time": "2023-02-24T11:20:23.186025Z"
    }
   },
   "outputs": [
    {
     "data": {
      "text/plain": [
       "0.051"
      ]
     },
     "execution_count": 25,
     "metadata": {},
     "output_type": "execute_result"
    }
   ],
   "source": [
    "labels = OneClassSVM(kernel=\"rbf\", max_iter=1000, nu=.05, gamma='scale').fit_predict(X[np.random.randint(X.shape[0], size=1000), :])\n",
    "labels[labels == -1].size / labels.size"
   ]
  },
  {
   "cell_type": "markdown",
   "id": "be5baa46",
   "metadata": {},
   "source": [
    "### test whether anomalies are associated with any of the external variables"
   ]
  },
  {
   "cell_type": "code",
   "execution_count": null,
   "id": "7a5992ee",
   "metadata": {},
   "outputs": [],
   "source": [
    "    X, y = load_data()\n",
    "    for anomaly_algo_name, anomaly_algo in tqdm(anomaly_detection_algorithms.items(), position=0, desc=\"anomaly\", leave=False, colour='green', ncols=80):\n",
    "        if anomaly_algo is None:\n",
    "            continue\n",
    "        scores = defaultdict(list)\n",
    "        labels = anomaly_algo.fit_predict(X)\n",
    "        for external_var_name in tqdm(external_vars, position=1, desc=\"external_var\", leave=False, colour='blue', ncols=80):\n",
    "            scores[external_var_name].append(\n",
    "                mutual_info_score(\n",
    "                    labels[labels == -1],\n",
    "                    y[external_var_name].values[labels == -1]\n",
    "                )\n",
    "            )\n",
    "\n",
    "        for external_var_name, external_var_scores in scores.items():\n",
    "            print(f\"{external_var_name}: {np.mean(external_var_scores)}\")"
   ]
  },
  {
   "cell_type": "markdown",
   "id": "e7e6193c",
   "metadata": {},
   "source": [
    "### check if anomaly detection improves the clustering"
   ]
  },
  {
   "cell_type": "code",
   "execution_count": null,
   "id": "67fc8955",
   "metadata": {},
   "outputs": [],
   "source": []
  }
 ],
 "metadata": {
  "kernelspec": {
   "display_name": "Python 3 (ipykernel)",
   "language": "python",
   "name": "python3"
  },
  "language_info": {
   "codemirror_mode": {
    "name": "ipython",
    "version": 3
   },
   "file_extension": ".py",
   "mimetype": "text/x-python",
   "name": "python",
   "nbconvert_exporter": "python",
   "pygments_lexer": "ipython3",
   "version": "3.10.8"
  }
 },
 "nbformat": 4,
 "nbformat_minor": 5
}
