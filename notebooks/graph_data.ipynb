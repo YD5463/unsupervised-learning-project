{
 "cells": [
  {
   "cell_type": "markdown",
   "id": "1ac4edac",
   "metadata": {},
   "source": [
    "## Graph Based Dataset\n",
    "### Louvain’s Algorithm for Community Detection\n",
    "https://github.com/taynaud/python-louvain"
   ]
  },
  {
   "cell_type": "code",
   "execution_count": 1,
   "id": "b52189cc",
   "metadata": {
    "ExecuteTime": {
     "end_time": "2023-02-27T19:54:19.763498Z",
     "start_time": "2023-02-27T19:54:19.086750Z"
    }
   },
   "outputs": [],
   "source": [
    "import networkx as nx\n",
    "import os\n",
    "import pandas as pd\n",
    "import json"
   ]
  },
  {
   "cell_type": "code",
   "execution_count": 2,
   "id": "c618dee4",
   "metadata": {
    "ExecuteTime": {
     "end_time": "2023-02-27T19:54:20.738369Z",
     "start_time": "2023-02-27T19:54:19.820555Z"
    }
   },
   "outputs": [],
   "source": [
    "\n",
    "def load_graph_dataset(data_path=\"../data/deezer_ego_nets\"):\n",
    "    with open(os.path.join(data_path, \"deezer_edges.json\")) as f:\n",
    "        graph = nx.MultiGraph({\n",
    "            node: [element[1] for element in neighbors]\n",
    "            for node, neighbors in json.load(f).items()\n",
    "        })\n",
    "    target = pd.read_csv(os.path.join(data_path, \"deezer_target.csv\"))\n",
    "    return graph, target\n",
    "\n",
    "graph, target = load_graph_dataset()"
   ]
  },
  {
   "cell_type": "code",
   "execution_count": 3,
   "id": "a59c1027",
   "metadata": {
    "ExecuteTime": {
     "end_time": "2023-02-27T17:23:33.520222Z",
     "start_time": "2023-02-27T17:23:33.498149Z"
    }
   },
   "outputs": [
    {
     "data": {
      "text/plain": [
       "9988"
      ]
     },
     "execution_count": 3,
     "metadata": {},
     "output_type": "execute_result"
    }
   ],
   "source": [
    "len(graph.nodes)"
   ]
  },
  {
   "cell_type": "code",
   "execution_count": 3,
   "id": "293b0634",
   "metadata": {
    "ExecuteTime": {
     "end_time": "2023-02-27T19:54:31.870184Z",
     "start_time": "2023-02-27T19:54:31.082696Z"
    }
   },
   "outputs": [],
   "source": [
    "mat = nx.adjacency_matrix(graph)"
   ]
  },
  {
   "cell_type": "code",
   "execution_count": null,
   "id": "2bd8772a",
   "metadata": {},
   "outputs": [],
   "source": [
    "from sklearn.decomposition import TruncatedSVD\n",
    "tsvd = TruncatedSVD(n_components=10)"
   ]
  },
  {
   "cell_type": "code",
   "execution_count": 5,
   "id": "17a42606",
   "metadata": {
    "ExecuteTime": {
     "end_time": "2023-02-27T19:54:40.256287Z",
     "start_time": "2023-02-27T19:54:40.216384Z"
    }
   },
   "outputs": [],
   "source": [
    "import numpy as np\n",
    "X = mat.todense()\n",
    "rows = np.random.randint(X.shape[0], size=1000)\n",
    "X = X[rows, :]"
   ]
  },
  {
   "cell_type": "code",
   "execution_count": 6,
   "id": "26feaae8",
   "metadata": {
    "ExecuteTime": {
     "end_time": "2023-02-27T19:57:45.802264Z",
     "start_time": "2023-02-27T19:54:40.742112Z"
    }
   },
   "outputs": [
    {
     "name": "stderr",
     "output_type": "stream",
     "text": [
      "/Users/yosefdanan/miniforge3/lib/python3.10/site-packages/sklearn/utils/validation.py:727: FutureWarning: np.matrix usage is deprecated in 1.0 and will raise a TypeError in 1.2. Please convert to a numpy array with np.asarray. For more information see: https://numpy.org/doc/stable/reference/generated/numpy.matrix.html\n",
      "  warnings.warn(\n"
     ]
    }
   ],
   "source": [
    "from sklearn.decomposition import PCA, FastICA\n",
    "data = PCA(n_components=0.98).fit_transform(X)"
   ]
  },
  {
   "cell_type": "code",
   "execution_count": 7,
   "id": "b4ee465b",
   "metadata": {
    "ExecuteTime": {
     "end_time": "2023-02-27T19:59:09.307951Z",
     "start_time": "2023-02-27T19:59:09.241474Z"
    }
   },
   "outputs": [
    {
     "data": {
      "text/plain": [
       "(1000, 68)"
      ]
     },
     "execution_count": 7,
     "metadata": {},
     "output_type": "execute_result"
    }
   ],
   "source": [
    "data.shape"
   ]
  },
  {
   "cell_type": "code",
   "execution_count": 25,
   "id": "782ddc05",
   "metadata": {
    "ExecuteTime": {
     "end_time": "2023-02-27T20:08:16.876335Z",
     "start_time": "2023-02-27T20:08:14.281546Z"
    }
   },
   "outputs": [],
   "source": [
    "from sklearn.cluster import KMeans\n",
    "model = KMeans(2, max_iter=1000)\n",
    "labels = model.fit_predict(data)"
   ]
  },
  {
   "cell_type": "code",
   "execution_count": 26,
   "id": "e8224cc0",
   "metadata": {
    "ExecuteTime": {
     "end_time": "2023-02-27T20:09:38.348680Z",
     "start_time": "2023-02-27T20:09:38.309658Z"
    }
   },
   "outputs": [
    {
     "ename": "ValueError",
     "evalue": "Number of labels is 1. Valid values are 2 to n_samples - 1 (inclusive)",
     "output_type": "error",
     "traceback": [
      "\u001b[0;31m---------------------------------------------------------------------------\u001b[0m",
      "\u001b[0;31mValueError\u001b[0m                                Traceback (most recent call last)",
      "Cell \u001b[0;32mIn[26], line 2\u001b[0m\n\u001b[1;32m      1\u001b[0m \u001b[38;5;28;01mfrom\u001b[39;00m \u001b[38;5;21;01msklearn\u001b[39;00m\u001b[38;5;21;01m.\u001b[39;00m\u001b[38;5;21;01mmetrics\u001b[39;00m \u001b[38;5;28;01mimport\u001b[39;00m silhouette_score\n\u001b[0;32m----> 2\u001b[0m \u001b[38;5;28mprint\u001b[39m(\u001b[43msilhouette_score\u001b[49m\u001b[43m(\u001b[49m\u001b[43mdata\u001b[49m\u001b[43m,\u001b[49m\u001b[43mlabels\u001b[49m\u001b[43m)\u001b[49m)\n",
      "File \u001b[0;32m~/miniforge3/lib/python3.10/site-packages/sklearn/metrics/cluster/_unsupervised.py:117\u001b[0m, in \u001b[0;36msilhouette_score\u001b[0;34m(X, labels, metric, sample_size, random_state, **kwds)\u001b[0m\n\u001b[1;32m    115\u001b[0m     \u001b[38;5;28;01melse\u001b[39;00m:\n\u001b[1;32m    116\u001b[0m         X, labels \u001b[38;5;241m=\u001b[39m X[indices], labels[indices]\n\u001b[0;32m--> 117\u001b[0m \u001b[38;5;28;01mreturn\u001b[39;00m np\u001b[38;5;241m.\u001b[39mmean(\u001b[43msilhouette_samples\u001b[49m\u001b[43m(\u001b[49m\u001b[43mX\u001b[49m\u001b[43m,\u001b[49m\u001b[43m \u001b[49m\u001b[43mlabels\u001b[49m\u001b[43m,\u001b[49m\u001b[43m \u001b[49m\u001b[43mmetric\u001b[49m\u001b[38;5;241;43m=\u001b[39;49m\u001b[43mmetric\u001b[49m\u001b[43m,\u001b[49m\u001b[43m \u001b[49m\u001b[38;5;241;43m*\u001b[39;49m\u001b[38;5;241;43m*\u001b[39;49m\u001b[43mkwds\u001b[49m\u001b[43m)\u001b[49m)\n",
      "File \u001b[0;32m~/miniforge3/lib/python3.10/site-packages/sklearn/metrics/cluster/_unsupervised.py:231\u001b[0m, in \u001b[0;36msilhouette_samples\u001b[0;34m(X, labels, metric, **kwds)\u001b[0m\n\u001b[1;32m    229\u001b[0m n_samples \u001b[38;5;241m=\u001b[39m \u001b[38;5;28mlen\u001b[39m(labels)\n\u001b[1;32m    230\u001b[0m label_freqs \u001b[38;5;241m=\u001b[39m np\u001b[38;5;241m.\u001b[39mbincount(labels)\n\u001b[0;32m--> 231\u001b[0m \u001b[43mcheck_number_of_labels\u001b[49m\u001b[43m(\u001b[49m\u001b[38;5;28;43mlen\u001b[39;49m\u001b[43m(\u001b[49m\u001b[43mle\u001b[49m\u001b[38;5;241;43m.\u001b[39;49m\u001b[43mclasses_\u001b[49m\u001b[43m)\u001b[49m\u001b[43m,\u001b[49m\u001b[43m \u001b[49m\u001b[43mn_samples\u001b[49m\u001b[43m)\u001b[49m\n\u001b[1;32m    233\u001b[0m kwds[\u001b[38;5;124m\"\u001b[39m\u001b[38;5;124mmetric\u001b[39m\u001b[38;5;124m\"\u001b[39m] \u001b[38;5;241m=\u001b[39m metric\n\u001b[1;32m    234\u001b[0m reduce_func \u001b[38;5;241m=\u001b[39m functools\u001b[38;5;241m.\u001b[39mpartial(\n\u001b[1;32m    235\u001b[0m     _silhouette_reduce, labels\u001b[38;5;241m=\u001b[39mlabels, label_freqs\u001b[38;5;241m=\u001b[39mlabel_freqs\n\u001b[1;32m    236\u001b[0m )\n",
      "File \u001b[0;32m~/miniforge3/lib/python3.10/site-packages/sklearn/metrics/cluster/_unsupervised.py:33\u001b[0m, in \u001b[0;36mcheck_number_of_labels\u001b[0;34m(n_labels, n_samples)\u001b[0m\n\u001b[1;32m     22\u001b[0m \u001b[38;5;124;03m\"\"\"Check that number of labels are valid.\u001b[39;00m\n\u001b[1;32m     23\u001b[0m \n\u001b[1;32m     24\u001b[0m \u001b[38;5;124;03mParameters\u001b[39;00m\n\u001b[0;32m   (...)\u001b[0m\n\u001b[1;32m     30\u001b[0m \u001b[38;5;124;03m    Number of samples.\u001b[39;00m\n\u001b[1;32m     31\u001b[0m \u001b[38;5;124;03m\"\"\"\u001b[39;00m\n\u001b[1;32m     32\u001b[0m \u001b[38;5;28;01mif\u001b[39;00m \u001b[38;5;129;01mnot\u001b[39;00m \u001b[38;5;241m1\u001b[39m \u001b[38;5;241m<\u001b[39m n_labels \u001b[38;5;241m<\u001b[39m n_samples:\n\u001b[0;32m---> 33\u001b[0m     \u001b[38;5;28;01mraise\u001b[39;00m \u001b[38;5;167;01mValueError\u001b[39;00m(\n\u001b[1;32m     34\u001b[0m         \u001b[38;5;124m\"\u001b[39m\u001b[38;5;124mNumber of labels is \u001b[39m\u001b[38;5;132;01m%d\u001b[39;00m\u001b[38;5;124m. Valid values are 2 to n_samples - 1 (inclusive)\u001b[39m\u001b[38;5;124m\"\u001b[39m\n\u001b[1;32m     35\u001b[0m         \u001b[38;5;241m%\u001b[39m n_labels\n\u001b[1;32m     36\u001b[0m     )\n",
      "\u001b[0;31mValueError\u001b[0m: Number of labels is 1. Valid values are 2 to n_samples - 1 (inclusive)"
     ]
    }
   ],
   "source": [
    "from sklearn.metrics import silhouette_score\n",
    "print(silhouette_score(data,labels))"
   ]
  },
  {
   "cell_type": "code",
   "execution_count": null,
   "id": "14e92242",
   "metadata": {
    "ExecuteTime": {
     "end_time": "2023-02-27T20:09:38.434775Z",
     "start_time": "2023-02-27T20:09:38.434768Z"
    }
   },
   "outputs": [],
   "source": [
    "# import random\n",
    "# k = 5\n",
    "# sampled_nodes = random.sample(graph.nodes, k)\n",
    "# sampled_graph = graph.subgraph(sampled_nodes)\n",
    "# nx.draw_networkx(graph, arrows=True, with_labels=False)"
   ]
  },
  {
   "cell_type": "code",
   "execution_count": 6,
   "id": "ced90516",
   "metadata": {
    "ExecuteTime": {
     "end_time": "2023-02-27T19:09:57.837116Z",
     "start_time": "2023-02-27T19:09:47.838561Z"
    }
   },
   "outputs": [],
   "source": [
    "from community import community_louvain\n",
    "\n",
    "comms = community_louvain.best_partition(graph)"
   ]
  },
  {
   "cell_type": "code",
   "execution_count": 7,
   "id": "8cbd9f1a",
   "metadata": {
    "ExecuteTime": {
     "end_time": "2023-02-27T19:09:59.158261Z",
     "start_time": "2023-02-27T19:09:59.062505Z"
    }
   },
   "outputs": [
    {
     "data": {
      "text/plain": [
       "array([0, 1, 2, 3])"
      ]
     },
     "execution_count": 7,
     "metadata": {},
     "output_type": "execute_result"
    }
   ],
   "source": [
    "import numpy as np\n",
    "unique_coms = np.unique(list(comms.values()))\n",
    "unique_coms"
   ]
  },
  {
   "cell_type": "code",
   "execution_count": null,
   "id": "143e75ef",
   "metadata": {
    "ExecuteTime": {
     "end_time": "2023-02-27T20:09:38.435904Z",
     "start_time": "2023-02-27T20:09:38.435899Z"
    }
   },
   "outputs": [],
   "source": [
    "# unique_coms = np.unique(list(comms.values()))\n",
    "# cmap = {\n",
    "#     0 : 'maroon',\n",
    "#     1 : 'teal',\n",
    "#     2 : 'black', \n",
    "#     3 : 'orange',\n",
    "# }\n",
    "\n",
    "# node_cmap = [cmap[v] for _,v in comms.items()]\n",
    "\n",
    "# pos = nx.spring_layout(graph)\n",
    "# nx.draw(graph, pos, node_size = 75, alpha = 0.8, node_color=node_cmap)\n",
    "# plt.show()"
   ]
  },
  {
   "cell_type": "code",
   "execution_count": null,
   "id": "7fd54002",
   "metadata": {},
   "outputs": [],
   "source": []
  }
 ],
 "metadata": {
  "kernelspec": {
   "display_name": "Python 3 (ipykernel)",
   "language": "python",
   "name": "python3"
  },
  "language_info": {
   "codemirror_mode": {
    "name": "ipython",
    "version": 3
   },
   "file_extension": ".py",
   "mimetype": "text/x-python",
   "name": "python",
   "nbconvert_exporter": "python",
   "pygments_lexer": "ipython3",
   "version": "3.10.8"
  }
 },
 "nbformat": 4,
 "nbformat_minor": 5
}
