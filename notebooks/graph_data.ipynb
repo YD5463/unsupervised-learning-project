{
 "cells": [
  {
   "cell_type": "markdown",
   "id": "1ac4edac",
   "metadata": {},
   "source": [
    "## Graph Based Dataset"
   ]
  },
  {
   "cell_type": "code",
   "execution_count": 3,
   "id": "7fd6b06e",
   "metadata": {
    "ExecuteTime": {
     "end_time": "2023-03-03T11:30:07.009061Z",
     "start_time": "2023-03-03T11:30:06.020747Z"
    }
   },
   "outputs": [],
   "source": [
    "import json\n",
    "import os\n",
    "import pickle\n",
    "from typing import Dict\n",
    "\n",
    "import pandas as pd\n",
    "import networkx as nx\n",
    "from sklearn.decomposition import TruncatedSVD\n",
    "import numpy as np\n",
    "from sklearn.decomposition import PCA, FastICA\n",
    "from sklearn.metrics import silhouette_score, normalized_mutual_info_score, mutual_info_score"
   ]
  },
  {
   "cell_type": "code",
   "execution_count": 5,
   "id": "384f1b93",
   "metadata": {
    "ExecuteTime": {
     "end_time": "2023-03-03T11:30:20.923226Z",
     "start_time": "2023-03-03T11:30:20.889733Z"
    }
   },
   "outputs": [],
   "source": [
    "DATA_PATH = \"../data/deezer_ego_nets\"\n"
   ]
  },
  {
   "cell_type": "code",
   "execution_count": 6,
   "id": "ec047d34",
   "metadata": {
    "ExecuteTime": {
     "end_time": "2023-03-03T11:30:23.517329Z",
     "start_time": "2023-03-03T11:30:22.268223Z"
    }
   },
   "outputs": [],
   "source": [
    "def preprocess_data():\n",
    "    graphs = []\n",
    "    with open(os.path.join(DATA_PATH, \"deezer_edges.json\")) as f:\n",
    "        graphs_dict: Dict = json.load(f)\n",
    "    for graph_id, edges in graphs_dict.items():\n",
    "        curr_graph = nx.Graph()\n",
    "        for u, v in edges:\n",
    "            curr_graph.add_edge(u, v)\n",
    "        graphs.append(curr_graph)\n",
    "    return graphs\n",
    "\n",
    "target = pd.read_csv(os.path.join(DATA_PATH, \"deezer_target.csv\"))[\"target\"]\n",
    "graphs = preprocess_data()"
   ]
  },
  {
   "cell_type": "code",
   "execution_count": 2,
   "id": "9e473314",
   "metadata": {
    "ExecuteTime": {
     "end_time": "2023-03-04T21:02:10.025504Z",
     "start_time": "2023-03-04T21:02:03.198362Z"
    }
   },
   "outputs": [
    {
     "name": "stdout",
     "output_type": "stream",
     "text": [
      "Looking in indexes: https://pypi.org/simple, https://pypi.ngc.nvidia.com\n",
      "Collecting scikit-network\n",
      "  Downloading scikit_network-0.28.3-cp310-cp310-macosx_11_0_arm64.whl (1.6 MB)\n",
      "\u001b[2K     \u001b[90m━━━━━━━━━━━━━━━━━━━━━━━━━━━━━━━━━━━━━━━━\u001b[0m \u001b[32m1.6/1.6 MB\u001b[0m \u001b[31m2.0 MB/s\u001b[0m eta \u001b[36m0:00:00\u001b[0ma \u001b[36m0:00:01\u001b[0m0m\n",
      "\u001b[?25hRequirement already satisfied: numpy>=1.22.0 in /Users/yosefdanan/miniforge3/lib/python3.10/site-packages (from scikit-network) (1.23.5)\n",
      "Requirement already satisfied: scipy>=1.7.3 in /Users/yosefdanan/miniforge3/lib/python3.10/site-packages (from scikit-network) (1.9.3)\n",
      "Installing collected packages: scikit-network\n",
      "Successfully installed scikit-network-0.28.3\n",
      "\n",
      "\u001b[1m[\u001b[0m\u001b[34;49mnotice\u001b[0m\u001b[1;39;49m]\u001b[0m\u001b[39;49m A new release of pip available: \u001b[0m\u001b[31;49m22.3.1\u001b[0m\u001b[39;49m -> \u001b[0m\u001b[32;49m23.0.1\u001b[0m\n",
      "\u001b[1m[\u001b[0m\u001b[34;49mnotice\u001b[0m\u001b[1;39;49m]\u001b[0m\u001b[39;49m To update, run: \u001b[0m\u001b[32;49mpip install --upgrade pip\u001b[0m\n"
     ]
    }
   ],
   "source": [
    "!pip install scikit-network"
   ]
  },
  {
   "cell_type": "code",
   "execution_count": 5,
   "id": "b5eebd05",
   "metadata": {
    "ExecuteTime": {
     "end_time": "2023-03-04T21:03:44.079327Z",
     "start_time": "2023-03-04T21:03:44.055223Z"
    }
   },
   "outputs": [
    {
     "data": {
      "text/plain": [
       "(34, 4)"
      ]
     },
     "execution_count": 5,
     "metadata": {},
     "output_type": "execute_result"
    }
   ],
   "source": [
    "from sknetwork.data import karate_club, painters, movie_actor\n",
    "from sknetwork.embedding import LouvainEmbedding\n",
    "\n",
    "graph = karate_club(metadata=True)\n",
    "\n",
    "louvain = LouvainEmbedding()\n",
    "embedding = louvain.fit_transform(graph.adjacency)\n",
    "embedding.shape\n"
   ]
  },
  {
   "cell_type": "code",
   "execution_count": 12,
   "id": "18c5857b",
   "metadata": {
    "ExecuteTime": {
     "end_time": "2023-03-04T21:07:09.605730Z",
     "start_time": "2023-03-04T21:07:09.587268Z"
    }
   },
   "outputs": [
    {
     "data": {
      "text/plain": [
       "(34, 34)"
      ]
     },
     "execution_count": 12,
     "metadata": {},
     "output_type": "execute_result"
    }
   ],
   "source": [
    "graph.adjacency.todense().shape"
   ]
  },
  {
   "cell_type": "code",
   "execution_count": 14,
   "id": "cd2e2acf",
   "metadata": {
    "ExecuteTime": {
     "end_time": "2023-03-04T21:21:57.786803Z",
     "start_time": "2023-03-04T21:21:57.773271Z"
    }
   },
   "outputs": [
    {
     "data": {
      "text/plain": [
       "array([[0.25      , 0.625     , 0.0625    , 0.0625    ],\n",
       "       [0.        , 0.88888889, 0.        , 0.11111111],\n",
       "       [0.        , 0.6       , 0.2       , 0.2       ],\n",
       "       [0.        , 1.        , 0.        , 0.        ],\n",
       "       [0.66666667, 0.33333333, 0.        , 0.        ],\n",
       "       [0.75      , 0.25      , 0.        , 0.        ],\n",
       "       [0.75      , 0.25      , 0.        , 0.        ],\n",
       "       [0.        , 1.        , 0.        , 0.        ],\n",
       "       [0.        , 0.4       , 0.        , 0.6       ],\n",
       "       [0.        , 0.5       , 0.        , 0.5       ],\n",
       "       [0.66666667, 0.33333333, 0.        , 0.        ],\n",
       "       [0.        , 1.        , 0.        , 0.        ],\n",
       "       [0.        , 1.        , 0.        , 0.        ],\n",
       "       [0.        , 0.8       , 0.        , 0.2       ],\n",
       "       [0.        , 0.        , 0.        , 1.        ],\n",
       "       [0.        , 0.        , 0.        , 1.        ],\n",
       "       [1.        , 0.        , 0.        , 0.        ],\n",
       "       [0.        , 1.        , 0.        , 0.        ],\n",
       "       [0.        , 0.        , 0.        , 1.        ],\n",
       "       [0.        , 0.66666667, 0.        , 0.33333333],\n",
       "       [0.        , 0.        , 0.        , 1.        ],\n",
       "       [0.        , 1.        , 0.        , 0.        ],\n",
       "       [0.        , 0.        , 0.        , 1.        ],\n",
       "       [0.        , 0.        , 0.4       , 0.6       ],\n",
       "       [0.        , 0.        , 1.        , 0.        ],\n",
       "       [0.        , 0.        , 1.        , 0.        ],\n",
       "       [0.        , 0.        , 0.        , 1.        ],\n",
       "       [0.        , 0.25      , 0.5       , 0.25      ],\n",
       "       [0.        , 0.33333333, 0.33333333, 0.33333333],\n",
       "       [0.        , 0.        , 0.25      , 0.75      ],\n",
       "       [0.        , 0.25      , 0.        , 0.75      ],\n",
       "       [0.        , 0.16666667, 0.5       , 0.33333333],\n",
       "       [0.        , 0.08333333, 0.16666667, 0.75      ],\n",
       "       [0.        , 0.17647059, 0.23529412, 0.58823529]])"
      ]
     },
     "execution_count": 14,
     "metadata": {},
     "output_type": "execute_result"
    }
   ],
   "source": [
    "embedding"
   ]
  },
  {
   "cell_type": "code",
   "execution_count": null,
   "id": "b8981e21",
   "metadata": {},
   "outputs": [],
   "source": []
  }
 ],
 "metadata": {
  "kernelspec": {
   "display_name": "Python 3 (ipykernel)",
   "language": "python",
   "name": "python3"
  },
  "language_info": {
   "codemirror_mode": {
    "name": "ipython",
    "version": 3
   },
   "file_extension": ".py",
   "mimetype": "text/x-python",
   "name": "python",
   "nbconvert_exporter": "python",
   "pygments_lexer": "ipython3",
   "version": "3.10.8"
  }
 },
 "nbformat": 4,
 "nbformat_minor": 5
}
