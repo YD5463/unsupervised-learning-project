{
 "cells": [
  {
   "cell_type": "markdown",
   "id": "1ac4edac",
   "metadata": {},
   "source": [
    "## Graph Based Dataset\n",
    "### Louvain’s Algorithm for Community Detection\n",
    "https://github.com/taynaud/python-louvain"
   ]
  },
  {
   "cell_type": "code",
   "execution_count": 4,
   "id": "b52189cc",
   "metadata": {
    "ExecuteTime": {
     "end_time": "2023-02-25T13:50:17.954318Z",
     "start_time": "2023-02-25T13:50:17.896201Z"
    }
   },
   "outputs": [],
   "source": [
    "import networkx as nx\n",
    "import os\n",
    "import pandas as pd\n",
    "import json"
   ]
  },
  {
   "cell_type": "code",
   "execution_count": 6,
   "id": "c618dee4",
   "metadata": {
    "ExecuteTime": {
     "end_time": "2023-02-25T13:50:32.346986Z",
     "start_time": "2023-02-25T13:50:29.743260Z"
    }
   },
   "outputs": [],
   "source": [
    "\n",
    "def load_graph_dataset(data_path=\"../data/deezer_ego_nets\"):\n",
    "    with open(os.path.join(data_path, \"deezer_edges.json\")) as f:\n",
    "        graph = nx.MultiGraph({\n",
    "            node: [element[1] for element in neighbors]\n",
    "            for node, neighbors in json.load(f).items()\n",
    "        })\n",
    "    target = pd.read_csv(os.path.join(data_path, \"deezer_target.csv\"))\n",
    "    return graph, target\n",
    "\n",
    "graph, target = load_graph_dataset()"
   ]
  },
  {
   "cell_type": "code",
   "execution_count": 12,
   "id": "a59c1027",
   "metadata": {
    "ExecuteTime": {
     "end_time": "2023-02-25T13:55:02.753204Z",
     "start_time": "2023-02-25T13:55:02.633773Z"
    }
   },
   "outputs": [
    {
     "data": {
      "text/plain": [
       "9988"
      ]
     },
     "execution_count": 12,
     "metadata": {},
     "output_type": "execute_result"
    }
   ],
   "source": [
    "len(graph.nodes)"
   ]
  },
  {
   "cell_type": "code",
   "execution_count": 25,
   "id": "14e92242",
   "metadata": {
    "ExecuteTime": {
     "end_time": "2023-02-25T16:42:44.599159Z",
     "start_time": "2023-02-25T16:40:06.547645Z"
    }
   },
   "outputs": [
    {
     "name": "stderr",
     "output_type": "stream",
     "text": [
      "/var/folders/b6/q8hy7lgd7v7glnmnnb18fg1w0000gn/T/ipykernel_28571/3439320185.py:3: DeprecationWarning: Sampling from a set deprecated\n",
      "since Python 3.9 and will be removed in a subsequent version.\n",
      "  sampled_nodes = random.sample(graph.nodes, k)\n"
     ]
    },
    {
     "data": {
      "image/png": "[encoded data removed]",
      "text/plain": [
       "<Figure size 640x480 with 1 Axes>"
      ]
     },
     "metadata": {},
     "output_type": "display_data"
    }
   ],
   "source": [
    "import random\n",
    "k = 5\n",
    "sampled_nodes = random.sample(graph.nodes, k)\n",
    "sampled_graph = graph.subgraph(sampled_nodes)\n",
    "nx.draw_networkx(graph, arrows=True, with_labels=False)"
   ]
  },
  {
   "cell_type": "code",
   "execution_count": 18,
   "id": "ced90516",
   "metadata": {
    "ExecuteTime": {
     "end_time": "2023-02-25T16:26:37.780305Z",
     "start_time": "2023-02-25T16:26:27.259980Z"
    }
   },
   "outputs": [],
   "source": [
    "from community import community_louvain\n",
    "\n",
    "comms = community_louvain.best_partition(graph)"
   ]
  },
  {
   "cell_type": "code",
   "execution_count": 21,
   "id": "8cbd9f1a",
   "metadata": {
    "ExecuteTime": {
     "end_time": "2023-02-25T16:27:12.333731Z",
     "start_time": "2023-02-25T16:27:12.197925Z"
    }
   },
   "outputs": [
    {
     "data": {
      "text/plain": [
       "array([0, 1, 2, 3])"
      ]
     },
     "execution_count": 21,
     "metadata": {},
     "output_type": "execute_result"
    }
   ],
   "source": [
    "import numpy as np\n",
    "unique_coms = np.unique(list(comms.values()))\n",
    "unique_coms"
   ]
  },
  {
   "cell_type": "code",
   "execution_count": 22,
   "id": "143e75ef",
   "metadata": {
    "ExecuteTime": {
     "end_time": "2023-02-25T16:29:06.436018Z",
     "start_time": "2023-02-25T16:28:49.949703Z"
    }
   },
   "outputs": [
    {
     "ename": "KeyboardInterrupt",
     "evalue": "",
     "output_type": "error",
     "traceback": [
      "\u001b[0;31m---------------------------------------------------------------------------\u001b[0m",
      "\u001b[0;31mKeyboardInterrupt\u001b[0m                         Traceback (most recent call last)",
      "Cell \u001b[0;32mIn[22], line 11\u001b[0m\n\u001b[1;32m      2\u001b[0m cmap \u001b[38;5;241m=\u001b[39m {\n\u001b[1;32m      3\u001b[0m     \u001b[38;5;241m0\u001b[39m : \u001b[38;5;124m'\u001b[39m\u001b[38;5;124mmaroon\u001b[39m\u001b[38;5;124m'\u001b[39m,\n\u001b[1;32m      4\u001b[0m     \u001b[38;5;241m1\u001b[39m : \u001b[38;5;124m'\u001b[39m\u001b[38;5;124mteal\u001b[39m\u001b[38;5;124m'\u001b[39m,\n\u001b[1;32m      5\u001b[0m     \u001b[38;5;241m2\u001b[39m : \u001b[38;5;124m'\u001b[39m\u001b[38;5;124mblack\u001b[39m\u001b[38;5;124m'\u001b[39m, \n\u001b[1;32m      6\u001b[0m     \u001b[38;5;241m3\u001b[39m : \u001b[38;5;124m'\u001b[39m\u001b[38;5;124morange\u001b[39m\u001b[38;5;124m'\u001b[39m,\n\u001b[1;32m      7\u001b[0m }\n\u001b[1;32m      9\u001b[0m node_cmap \u001b[38;5;241m=\u001b[39m [cmap[v] \u001b[38;5;28;01mfor\u001b[39;00m _,v \u001b[38;5;129;01min\u001b[39;00m comms\u001b[38;5;241m.\u001b[39mitems()]\n\u001b[0;32m---> 11\u001b[0m pos \u001b[38;5;241m=\u001b[39m \u001b[43mnx\u001b[49m\u001b[38;5;241;43m.\u001b[39;49m\u001b[43mspring_layout\u001b[49m\u001b[43m(\u001b[49m\u001b[43mgraph\u001b[49m\u001b[43m)\u001b[49m\n\u001b[1;32m     12\u001b[0m nx\u001b[38;5;241m.\u001b[39mdraw(graph, pos, node_size \u001b[38;5;241m=\u001b[39m \u001b[38;5;241m75\u001b[39m, alpha \u001b[38;5;241m=\u001b[39m \u001b[38;5;241m0.8\u001b[39m, node_color\u001b[38;5;241m=\u001b[39mnode_cmap)\n\u001b[1;32m     13\u001b[0m plt\u001b[38;5;241m.\u001b[39mshow()\n",
      "File \u001b[0;32m<decorator-gen-754>:2\u001b[0m, in \u001b[0;36mfruchterman_reingold_layout\u001b[0;34m(G, k, pos, fixed, iterations, threshold, weight, scale, center, dim, seed)\u001b[0m\n",
      "File \u001b[0;32m~/miniforge3/lib/python3.10/site-packages/networkx/utils/decorators.py:408\u001b[0m, in \u001b[0;36mrandom_state.<locals>._random_state\u001b[0;34m(func, *args, **kwargs)\u001b[0m\n\u001b[1;32m    406\u001b[0m new_args \u001b[38;5;241m=\u001b[39m \u001b[38;5;28mlist\u001b[39m(args)\n\u001b[1;32m    407\u001b[0m new_args[random_state_index] \u001b[38;5;241m=\u001b[39m random_state\n\u001b[0;32m--> 408\u001b[0m \u001b[38;5;28;01mreturn\u001b[39;00m \u001b[43mfunc\u001b[49m\u001b[43m(\u001b[49m\u001b[38;5;241;43m*\u001b[39;49m\u001b[43mnew_args\u001b[49m\u001b[43m,\u001b[49m\u001b[43m \u001b[49m\u001b[38;5;241;43m*\u001b[39;49m\u001b[38;5;241;43m*\u001b[39;49m\u001b[43mkwargs\u001b[49m\u001b[43m)\u001b[49m\n",
      "File \u001b[0;32m~/miniforge3/lib/python3.10/site-packages/networkx/drawing/layout.py:491\u001b[0m, in \u001b[0;36mfruchterman_reingold_layout\u001b[0;34m(G, k, pos, fixed, iterations, threshold, weight, scale, center, dim, seed)\u001b[0m\n\u001b[1;32m    489\u001b[0m         nnodes, _ \u001b[38;5;241m=\u001b[39m A\u001b[38;5;241m.\u001b[39mshape\n\u001b[1;32m    490\u001b[0m         k \u001b[38;5;241m=\u001b[39m dom_size \u001b[38;5;241m/\u001b[39m np\u001b[38;5;241m.\u001b[39msqrt(nnodes)\n\u001b[0;32m--> 491\u001b[0m     pos \u001b[38;5;241m=\u001b[39m \u001b[43m_sparse_fruchterman_reingold\u001b[49m\u001b[43m(\u001b[49m\n\u001b[1;32m    492\u001b[0m \u001b[43m        \u001b[49m\u001b[43mA\u001b[49m\u001b[43m,\u001b[49m\u001b[43m \u001b[49m\u001b[43mk\u001b[49m\u001b[43m,\u001b[49m\u001b[43m \u001b[49m\u001b[43mpos_arr\u001b[49m\u001b[43m,\u001b[49m\u001b[43m \u001b[49m\u001b[43mfixed\u001b[49m\u001b[43m,\u001b[49m\u001b[43m \u001b[49m\u001b[43miterations\u001b[49m\u001b[43m,\u001b[49m\u001b[43m \u001b[49m\u001b[43mthreshold\u001b[49m\u001b[43m,\u001b[49m\u001b[43m \u001b[49m\u001b[43mdim\u001b[49m\u001b[43m,\u001b[49m\u001b[43m \u001b[49m\u001b[43mseed\u001b[49m\n\u001b[1;32m    493\u001b[0m \u001b[43m    \u001b[49m\u001b[43m)\u001b[49m\n\u001b[1;32m    494\u001b[0m \u001b[38;5;28;01mexcept\u001b[39;00m \u001b[38;5;167;01mValueError\u001b[39;00m:\n\u001b[1;32m    495\u001b[0m     A \u001b[38;5;241m=\u001b[39m nx\u001b[38;5;241m.\u001b[39mto_numpy_array(G, weight\u001b[38;5;241m=\u001b[39mweight)\n",
      "File \u001b[0;32m<decorator-gen-758>:2\u001b[0m, in \u001b[0;36m_sparse_fruchterman_reingold\u001b[0;34m(A, k, pos, fixed, iterations, threshold, dim, seed)\u001b[0m\n",
      "File \u001b[0;32m~/miniforge3/lib/python3.10/site-packages/networkx/utils/decorators.py:408\u001b[0m, in \u001b[0;36mrandom_state.<locals>._random_state\u001b[0;34m(func, *args, **kwargs)\u001b[0m\n\u001b[1;32m    406\u001b[0m new_args \u001b[38;5;241m=\u001b[39m \u001b[38;5;28mlist\u001b[39m(args)\n\u001b[1;32m    407\u001b[0m new_args[random_state_index] \u001b[38;5;241m=\u001b[39m random_state\n\u001b[0;32m--> 408\u001b[0m \u001b[38;5;28;01mreturn\u001b[39;00m \u001b[43mfunc\u001b[49m\u001b[43m(\u001b[49m\u001b[38;5;241;43m*\u001b[39;49m\u001b[43mnew_args\u001b[49m\u001b[43m,\u001b[49m\u001b[43m \u001b[49m\u001b[38;5;241;43m*\u001b[39;49m\u001b[38;5;241;43m*\u001b[39;49m\u001b[43mkwargs\u001b[49m\u001b[43m)\u001b[49m\n",
      "File \u001b[0;32m~/miniforge3/lib/python3.10/site-packages/networkx/drawing/layout.py:637\u001b[0m, in \u001b[0;36m_sparse_fruchterman_reingold\u001b[0;34m(A, k, pos, fixed, iterations, threshold, dim, seed)\u001b[0m\n\u001b[1;32m    635\u001b[0m     Ai \u001b[38;5;241m=\u001b[39m np\u001b[38;5;241m.\u001b[39masarray(A\u001b[38;5;241m.\u001b[39mgetrowview(i)\u001b[38;5;241m.\u001b[39mtoarray())\n\u001b[1;32m    636\u001b[0m     \u001b[38;5;66;03m# displacement \"force\"\u001b[39;00m\n\u001b[0;32m--> 637\u001b[0m     displacement[:, i] \u001b[38;5;241m+\u001b[39m\u001b[38;5;241m=\u001b[39m \u001b[43m(\u001b[49m\n\u001b[1;32m    638\u001b[0m \u001b[43m        \u001b[49m\u001b[43mdelta\u001b[49m\u001b[43m \u001b[49m\u001b[38;5;241;43m*\u001b[39;49m\u001b[43m \u001b[49m\u001b[43m(\u001b[49m\u001b[43mk\u001b[49m\u001b[43m \u001b[49m\u001b[38;5;241;43m*\u001b[39;49m\u001b[43m \u001b[49m\u001b[43mk\u001b[49m\u001b[43m \u001b[49m\u001b[38;5;241;43m/\u001b[39;49m\u001b[43m \u001b[49m\u001b[43mdistance\u001b[49m\u001b[43m \u001b[49m\u001b[38;5;241;43m*\u001b[39;49m\u001b[38;5;241;43m*\u001b[39;49m\u001b[43m \u001b[49m\u001b[38;5;241;43m2\u001b[39;49m\u001b[43m \u001b[49m\u001b[38;5;241;43m-\u001b[39;49m\u001b[43m \u001b[49m\u001b[43mAi\u001b[49m\u001b[43m \u001b[49m\u001b[38;5;241;43m*\u001b[39;49m\u001b[43m \u001b[49m\u001b[43mdistance\u001b[49m\u001b[43m \u001b[49m\u001b[38;5;241;43m/\u001b[39;49m\u001b[43m \u001b[49m\u001b[43mk\u001b[49m\u001b[43m)\u001b[49m\n\u001b[1;32m    639\u001b[0m \u001b[43m    \u001b[49m\u001b[43m)\u001b[49m\u001b[38;5;241;43m.\u001b[39;49m\u001b[43msum\u001b[49m\u001b[43m(\u001b[49m\u001b[43maxis\u001b[49m\u001b[38;5;241;43m=\u001b[39;49m\u001b[38;5;241;43m1\u001b[39;49m\u001b[43m)\u001b[49m\n\u001b[1;32m    640\u001b[0m \u001b[38;5;66;03m# update positions\u001b[39;00m\n\u001b[1;32m    641\u001b[0m length \u001b[38;5;241m=\u001b[39m np\u001b[38;5;241m.\u001b[39msqrt((displacement \u001b[38;5;241m*\u001b[39m\u001b[38;5;241m*\u001b[39m \u001b[38;5;241m2\u001b[39m)\u001b[38;5;241m.\u001b[39msum(axis\u001b[38;5;241m=\u001b[39m\u001b[38;5;241m0\u001b[39m))\n",
      "File \u001b[0;32m~/miniforge3/lib/python3.10/site-packages/numpy/core/_methods.py:49\u001b[0m, in \u001b[0;36m_sum\u001b[0;34m(a, axis, dtype, out, keepdims, initial, where)\u001b[0m\n\u001b[1;32m     47\u001b[0m \u001b[38;5;28;01mdef\u001b[39;00m \u001b[38;5;21m_sum\u001b[39m(a, axis\u001b[38;5;241m=\u001b[39m\u001b[38;5;28;01mNone\u001b[39;00m, dtype\u001b[38;5;241m=\u001b[39m\u001b[38;5;28;01mNone\u001b[39;00m, out\u001b[38;5;241m=\u001b[39m\u001b[38;5;28;01mNone\u001b[39;00m, keepdims\u001b[38;5;241m=\u001b[39m\u001b[38;5;28;01mFalse\u001b[39;00m,\n\u001b[1;32m     48\u001b[0m          initial\u001b[38;5;241m=\u001b[39m_NoValue, where\u001b[38;5;241m=\u001b[39m\u001b[38;5;28;01mTrue\u001b[39;00m):\n\u001b[0;32m---> 49\u001b[0m     \u001b[38;5;28;01mreturn\u001b[39;00m \u001b[43mumr_sum\u001b[49m\u001b[43m(\u001b[49m\u001b[43ma\u001b[49m\u001b[43m,\u001b[49m\u001b[43m \u001b[49m\u001b[43maxis\u001b[49m\u001b[43m,\u001b[49m\u001b[43m \u001b[49m\u001b[43mdtype\u001b[49m\u001b[43m,\u001b[49m\u001b[43m \u001b[49m\u001b[43mout\u001b[49m\u001b[43m,\u001b[49m\u001b[43m \u001b[49m\u001b[43mkeepdims\u001b[49m\u001b[43m,\u001b[49m\u001b[43m \u001b[49m\u001b[43minitial\u001b[49m\u001b[43m,\u001b[49m\u001b[43m \u001b[49m\u001b[43mwhere\u001b[49m\u001b[43m)\u001b[49m\n",
      "\u001b[0;31mKeyboardInterrupt\u001b[0m: "
     ]
    }
   ],
   "source": [
    "unique_coms = np.unique(list(comms.values()))\n",
    "cmap = {\n",
    "    0 : 'maroon',\n",
    "    1 : 'teal',\n",
    "    2 : 'black', \n",
    "    3 : 'orange',\n",
    "}\n",
    "\n",
    "node_cmap = [cmap[v] for _,v in comms.items()]\n",
    "\n",
    "pos = nx.spring_layout(graph)\n",
    "nx.draw(graph, pos, node_size = 75, alpha = 0.8, node_color=node_cmap)\n",
    "plt.show()"
   ]
  },
  {
   "cell_type": "code",
   "execution_count": null,
   "id": "7fd54002",
   "metadata": {},
   "outputs": [],
   "source": []
  }
 ],
 "metadata": {
  "kernelspec": {
   "display_name": "Python 3 (ipykernel)",
   "language": "python",
   "name": "python3"
  },
  "language_info": {
   "codemirror_mode": {
    "name": "ipython",
    "version": 3
   },
   "file_extension": ".py",
   "mimetype": "text/x-python",
   "name": "python",
   "nbconvert_exporter": "python",
   "pygments_lexer": "ipython3",
   "version": "3.10.8"
  }
 },
 "nbformat": 4,
 "nbformat_minor": 5
}
